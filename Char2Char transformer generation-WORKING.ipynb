{
 "cells": [
  {
   "cell_type": "code",
   "execution_count": 2,
   "metadata": {
    "gradient": {},
    "id": "54j16swJY1dW"
   },
   "outputs": [],
   "source": [
    "import io\n",
    "import os\n",
    "import re\n",
    "import time\n",
    "import unicodedata\n",
    "from itertools import chain\n",
    "\n",
    "import matplotlib.pyplot as plt\n",
    "import numpy as np\n",
    "import tensorflow as tf\n",
    "from sklearn.model_selection import train_test_split\n",
    "from tensorflow.keras.layers.experimental import preprocessing\n",
    "\n",
    "from deepcomedy.models.transformer import *\n",
    "from deepcomedy.preprocessing import *\n",
    "from deepcomedy.utils import *\n",
    "from deepcomedy.metrics import *\n",
    "import tqdm\n",
    "\n",
    "from nlgpoetry.hyphenation import *\n",
    "\n",
    "%load_ext autoreload\n",
    "%autoreload 2"
   ]
  },
  {
   "cell_type": "markdown",
   "metadata": {
    "gradient": {
     "editing": false
    },
    "id": "8RuMqNB4ujuT",
    "tags": []
   },
   "source": [
    "## 1. Data preprocessing"
   ]
  },
  {
   "cell_type": "code",
   "execution_count": 3,
   "metadata": {
    "gradient": {},
    "id": "jH7n29oxB0z4"
   },
   "outputs": [],
   "source": [
    "raw_text = open(\"./data/divina_textonly.txt\", \"rb\").read().decode(encoding=\"utf-8\")\n",
    "raw_syll_text = (\n",
    "    open(\"./data/divina_syll_textonly.txt\", \"rb\").read().decode(encoding=\"utf-8\")\n",
    ")\n",
    "syll_text = preprocess_text(raw_syll_text, end_of_tercet='')\n",
    "text = preprocess_text(raw_text, end_of_tercet='')"
   ]
  },
  {
   "cell_type": "markdown",
   "metadata": {
    "id": "9ASHyaMBC84V"
   },
   "source": [
    "Split preprocessed text into verses"
   ]
  },
  {
   "cell_type": "code",
   "execution_count": 4,
   "metadata": {
    "gradient": {},
    "id": "-IF6sE6FC_4J"
   },
   "outputs": [],
   "source": [
    "sep = \"<EOV>\"\n",
    "input_tercets = [x.lstrip() + sep for x in text.split(sep)][:-1]\n",
    "target_tercets = [x.lstrip() + sep for x in syll_text.split(sep)][:-1]"
   ]
  },
  {
   "cell_type": "markdown",
   "metadata": {
    "id": "cdUmYhUKDEuj"
   },
   "source": [
    "Encode with input and target tokenizers"
   ]
  },
  {
   "cell_type": "code",
   "execution_count": 5,
   "metadata": {
    "gradient": {},
    "id": "-mob1kOzDD4z"
   },
   "outputs": [],
   "source": [
    "input_tokenizer = tf.keras.preprocessing.text.Tokenizer(\n",
    "    char_level=False, filters=\"\", lower=False\n",
    ")\n",
    "input_tokenizer.fit_on_texts(input_tercets)\n",
    "\n",
    "target_tokenizer = tf.keras.preprocessing.text.Tokenizer(\n",
    "    char_level=False, filters=\"\", lower=False\n",
    ")\n",
    "target_tokenizer.fit_on_texts(target_tercets)\n",
    "\n",
    "enc_input_tercets = input_tokenizer.texts_to_sequences(input_tercets)\n",
    "enc_target_tercets = target_tokenizer.texts_to_sequences(target_tercets)\n",
    "\n",
    "input_vocab_size = len(input_tokenizer.word_index) + 1\n",
    "target_vocab_size = len(target_tokenizer.word_index) + 1"
   ]
  },
  {
   "cell_type": "code",
   "execution_count": 6,
   "metadata": {
    "gradient": {},
    "id": "xDKv92yAL_t8"
   },
   "outputs": [],
   "source": [
    "input_text = []\n",
    "target_text = []\n",
    "target_text_tercet = []\n",
    "\n",
    "for line in range(len(enc_input_tercets) - 2):\n",
    "    input_text.append(list(chain(*enc_input_tercets[line : line + 3])))\n",
    "    target_text_tercet.append(list(chain(*enc_target_tercets[line : line + 3])))\n",
    "    target_text.append(list(chain(*enc_target_tercets[line : line + 4])))"
   ]
  },
  {
   "cell_type": "markdown",
   "metadata": {
    "id": "CY44HP5lKz2-"
   },
   "source": [
    "Pad sequences"
   ]
  },
  {
   "cell_type": "code",
   "execution_count": 7,
   "metadata": {
    "gradient": {},
    "id": "Pq34y57yK3wd"
   },
   "outputs": [],
   "source": [
    "padded_input_text = tf.keras.preprocessing.sequence.pad_sequences(\n",
    "    input_text, padding=\"post\"\n",
    ")\n",
    "padded_target_text = tf.keras.preprocessing.sequence.pad_sequences(\n",
    "    target_text, padding=\"post\"\n",
    ")\n",
    "padded_target_text_tercet = tf.keras.preprocessing.sequence.pad_sequences(\n",
    "    target_text_tercet, padding=\"post\"\n",
    ")"
   ]
  },
  {
   "cell_type": "code",
   "execution_count": 8,
   "metadata": {
    "id": "KEg3jSHBqx3A"
   },
   "outputs": [],
   "source": [
    "input_train, input_val, target_train, target_val, target_tercet_train, target_tercet_val = train_test_split(padded_input_text, padded_target_text, padded_target_text_tercet)"
   ]
  },
  {
   "cell_type": "code",
   "execution_count": 16,
   "metadata": {},
   "outputs": [],
   "source": [
    "transformer = load_transformer_model(config, input_vocab_size, target_vocab_size, target_tokenizer, './models/c2c-gen.h5')"
   ]
  },
  {
   "cell_type": "markdown",
   "metadata": {
    "id": "8LSUOYgsPFvn"
   },
   "source": [
    "## 2. Hyperparameter sweep"
   ]
  },
  {
   "cell_type": "code",
   "execution_count": 309,
   "metadata": {
    "gradient": {},
    "id": "JAcuJAgrPOV4",
    "outputId": "c6a1335e-c016-45e8-934f-12dd47402344"
   },
   "outputs": [
    {
     "name": "stdout",
     "output_type": "stream",
     "text": [
      "Create sweep with ID: i08xtnzs\n",
      "Sweep URL: https://wandb.ai/deepcomedy/deepcomedy/sweeps/i08xtnzs\n"
     ]
    }
   ],
   "source": [
    "sweep_config = {\n",
    "    \"name\": \"char2char-sweep-2\",\n",
    "    \"method\": \"grid\",\n",
    "    \"metric\": {\"name\": \"loss\", \"goal\": \"minimize\"},\n",
    "    \"parameters\": {\n",
    "        \"batch_size\": {\"value\": 32},\n",
    "        \"epochs\": {\"value\": 70},\n",
    "        \"num_layers\": {\"values\": [8, 12]},\n",
    "        \"num_heads\": {\"value\": 4},\n",
    "        \"d_model\": {\"value\": 256},\n",
    "        \"dff\": {\"value\": 512},\n",
    "    },\n",
    "}\n",
    "\n",
    "sweep_id = wandb.sweep(sweep_config, project='deepcomedy', entity='deepcomedy')"
   ]
  },
  {
   "cell_type": "code",
   "execution_count": 306,
   "metadata": {
    "gradient": {},
    "id": "_ivK7q12PTF8",
    "outputId": "456f33cf-6d2e-4b20-d5d2-b6cae0ff7186"
   },
   "outputs": [
    {
     "name": "stderr",
     "output_type": "stream",
     "text": [
      "\u001b[34m\u001b[1mwandb\u001b[0m: Agent Starting Run: 6lj17gch with config:\n",
      "\u001b[34m\u001b[1mwandb\u001b[0m: \tbatch_size: 32\n",
      "\u001b[34m\u001b[1mwandb\u001b[0m: \td_model: 256\n",
      "\u001b[34m\u001b[1mwandb\u001b[0m: \tdff: 512\n",
      "\u001b[34m\u001b[1mwandb\u001b[0m: \tepochs: 1\n",
      "\u001b[34m\u001b[1mwandb\u001b[0m: \tnum_heads: 4\n",
      "\u001b[34m\u001b[1mwandb\u001b[0m: \tnum_layers: 8\n",
      "\u001b[34m\u001b[1mwandb\u001b[0m: wandb version 0.10.31 is available!  To upgrade, please run:\n",
      "\u001b[34m\u001b[1mwandb\u001b[0m:  $ pip install wandb --upgrade\n"
     ]
    },
    {
     "data": {
      "text/html": [
       "\n",
       "                Tracking run with wandb version 0.10.29<br/>\n",
       "                Syncing run <strong style=\"color:#cdcd00\">vibrant-sweep-1</strong> to <a href=\"https://wandb.ai\" target=\"_blank\">Weights & Biases</a> <a href=\"https://docs.wandb.com/integrations/jupyter.html\" target=\"_blank\">(Documentation)</a>.<br/>\n",
       "                Project page: <a href=\"https://wandb.ai/deepcomedy/deepcomedy\" target=\"_blank\">https://wandb.ai/deepcomedy/deepcomedy</a><br/>\n",
       "                Sweep page: <a href=\"https://wandb.ai/deepcomedy/deepcomedy/sweeps/ag0p1yvk\" target=\"_blank\">https://wandb.ai/deepcomedy/deepcomedy/sweeps/ag0p1yvk</a><br/>\n",
       "Run page: <a href=\"https://wandb.ai/deepcomedy/deepcomedy/runs/6lj17gch\" target=\"_blank\">https://wandb.ai/deepcomedy/deepcomedy/runs/6lj17gch</a><br/>\n",
       "                Run data is saved locally in <code>/notebooks/wandb/run-20210531_181034-6lj17gch</code><br/><br/>\n",
       "            "
      ],
      "text/plain": [
       "<IPython.core.display.HTML object>"
      ]
     },
     "metadata": {},
     "output_type": "display_data"
    },
    {
     "name": "stdout",
     "output_type": "stream",
     "text": [
      "Epoch 1 Batch 0 Loss 5.0637 Accuracy 0.0283\n",
      "Epoch 1 Batch 50 Loss 3.9751 Accuracy 0.1375\n",
      "Epoch 1 Batch 100 Loss 3.5455 Accuracy 0.1719\n",
      "Epoch 1 Batch 150 Loss 3.3695 Accuracy 0.1858\n",
      "Epoch 1 Batch 200 Loss 3.2719 Accuracy 0.1937\n",
      "Epoch 1 Batch 250 Loss 3.1430 Accuracy 0.2091\n",
      "Epoch 1 Batch 300 Loss 2.9924 Accuracy 0.2302\n",
      "Epoch 1 Loss 2.9071 Accuracy 0.2421\n",
      "Time taken for 1 epoch: 104.98 secs\n",
      "\n",
      "|Nel |mez|zo |del |cam|min |di |no|stra |vi|ta\n",
      "|mi |ri|tro|vai |per |u|na |sel|va o|scu|ra,\n",
      "|ché |la |di|rit|ta |via |e|ra |smar|ri|ta.\n",
      "|di |di|l|li|ti |se |ti |tri |sta |tr|di |tr|che|di |char|di|la|le|ti|lal |ti |r|ti|tia|stre |li |tue |schiari |tre |to|de |ti|di |tri |tan|tr|di |tera |ste |sti |tria|scon|ti|stare |stri|ti|ti |ti |\n",
      "Hend ok!\n",
      "Plagiarism ok\n",
      "Correctness ok\n",
      "mi ritrovai per una selva oscura di dilliti se ti tri sta trdi trchedi chardilaletilal ti rtitiastre li tue schiari tre tode tidi tri tantrdi tera ste sti triascontistare strititi ti \n",
      "Rhymes ok\n"
     ]
    },
    {
     "data": {
      "text/html": [
       "<br/>Waiting for W&B process to finish, PID 7777<br/>Program ended successfully."
      ],
      "text/plain": [
       "<IPython.core.display.HTML object>"
      ]
     },
     "metadata": {},
     "output_type": "display_data"
    },
    {
     "data": {
      "application/vnd.jupyter.widget-view+json": {
       "model_id": "",
       "version_major": 2,
       "version_minor": 0
      },
      "text/plain": [
       "VBox(children=(Label(value=' 40.80MB of 40.80MB uploaded (0.00MB deduped)\\r'), FloatProgress(value=1.0, max=1.…"
      ]
     },
     "metadata": {},
     "output_type": "display_data"
    },
    {
     "name": "stderr",
     "output_type": "stream",
     "text": [
      "\u001b[34m\u001b[1mwandb\u001b[0m: Ctrl + C detected. Stopping sweep.\n",
      "\u001b[34m\u001b[1mwandb\u001b[0m: \u001b[32m\u001b[41mERROR\u001b[0m Problem finishing run\n",
      "Traceback (most recent call last):\n",
      "  File \"/usr/local/lib/python3.6/dist-packages/wandb/sdk/wandb_run.py\", line 1532, in _atexit_cleanup\n",
      "    self._on_finish()\n",
      "  File \"/usr/local/lib/python3.6/dist-packages/wandb/sdk/wandb_run.py\", line 1709, in _on_finish\n",
      "    self._backend.cleanup()\n",
      "  File \"/usr/local/lib/python3.6/dist-packages/wandb/sdk/backend/backend.py\", line 155, in cleanup\n",
      "    self.wandb_process.join()\n",
      "  File \"/usr/lib/python3.6/multiprocessing/process.py\", line 124, in join\n",
      "    res = self._popen.wait(timeout)\n",
      "  File \"/usr/lib/python3.6/multiprocessing/popen_fork.py\", line 50, in wait\n",
      "    return self.poll(os.WNOHANG if timeout == 0.0 else 0)\n",
      "  File \"/usr/lib/python3.6/multiprocessing/popen_fork.py\", line 28, in poll\n",
      "    pid, sts = os.waitpid(self.pid, flag)\n",
      "Exception\n"
     ]
    }
   ],
   "source": [
    "start_symbol = target_tokenizer.word_index[\"<GO>\"]\n",
    "stop_symbol = target_tokenizer.word_index[\"<EOV>\"]\n",
    "\n",
    "# Input for generation\n",
    "encoder_input = [input_text[0]]\n",
    "decoder_input = [target_text_tercet[0]]\n",
    "\n",
    "def sweep():\n",
    "    with wandb.init() as run:\n",
    "        config = wandb.config\n",
    "        dataset = make_dataset(input_train, target_train, batch_size=config[\"batch_size\"])\n",
    "        validation_dataset = make_dataset(input_val, target_val, batch_size=config[\"batch_size\"])\n",
    "        model, trainer = make_transformer_model(config, input_vocab_size, target_vocab_size, checkpoint_save_path=None)\n",
    "        trainer.train(dataset, config[\"epochs\"], log_wandb=True, validation_dataset=validation_dataset, validation_every=5)\n",
    "        \n",
    "        # Generate\n",
    "        result = generate(model, encoder_input, decoder_input, input_tokenizer, target_tokenizer, 1, start_symbol, stop_symbol)\n",
    "        html_result = re.sub(r'\\n', '<br>', result)\n",
    "        wandb.log({\"generated\": wandb.Html(\"<pre>\" + html_result + \"</pre>\", inject=False)})\n",
    "        \n",
    "        path = './models/char2char-' + str(config['epochs']) + '-' + str(config['num_layers']) + '-' + str(config['num_heads']) + '-' + str(config['dff']) + '.h5'\n",
    "        model.save_weights(path)\n",
    "        \n",
    "        wandb.save(path)\n",
    "              \n",
    "        # Generation metrics\n",
    "        print(result)\n",
    "        avg_syll, hend_ratio, plagiarism, correctness, incorrectness, rhymeness = generation_metrics(result)\n",
    "        \n",
    "        wandb.log({\n",
    "            'avg_syll': avg_syll, \n",
    "            'hend_ratio': hend_ratio,\n",
    "            'plagiarism': plagiarism,\n",
    "            'correctness': correctness,\n",
    "            'incorrectness': incorrectness,\n",
    "            'rhymeness': rhymeness,\n",
    "        })\n",
    "        \n",
    "        \n",
    "wandb.agent(sweep_id, function=sweep)"
   ]
  },
  {
   "cell_type": "markdown",
   "metadata": {
    "id": "4PLTOETK4_m6"
   },
   "source": [
    "## 3. Training"
   ]
  },
  {
   "cell_type": "code",
   "execution_count": 10,
   "metadata": {
    "gradient": {},
    "id": "6v2e1bIcLRZi"
   },
   "outputs": [],
   "source": [
    "dataset = make_dataset(input_train, target_train)\n",
    "val_dataset = make_dataset(input_val, target_val)"
   ]
  },
  {
   "cell_type": "code",
   "execution_count": 11,
   "metadata": {
    "gradient": {},
    "id": "-sGOf__BLZzQ"
   },
   "outputs": [],
   "source": [
    "config = {\n",
    "    \"num_layers\" : 4,\n",
    "    \"d_model\" : 256,\n",
    "    \"num_heads\" : 4,\n",
    "    \"dff\" : 512,\n",
    "}"
   ]
  },
  {
   "cell_type": "code",
   "execution_count": 91,
   "metadata": {
    "gradient": {},
    "id": "miEcmOVmL0Rt"
   },
   "outputs": [],
   "source": [
    "transformer, transformer_trainer = make_transformer_model(config, input_vocab_size, target_vocab_size, checkpoint_save_path= None)"
   ]
  },
  {
   "cell_type": "code",
   "execution_count": null,
   "metadata": {
    "colab": {
     "base_uri": "https://localhost:8080/",
     "height": 1000
    },
    "gradient": {},
    "id": "QaR03YUNL_uF",
    "outputId": "1f49a7c4-95de-4994-982d-d0ac034baf21",
    "scrolled": true
   },
   "outputs": [
    {
     "data": {
      "application/javascript": [
       "\n",
       "        window._wandbApiKey = new Promise((resolve, reject) => {\n",
       "            function loadScript(url) {\n",
       "            return new Promise(function(resolve, reject) {\n",
       "                let newScript = document.createElement(\"script\");\n",
       "                newScript.onerror = reject;\n",
       "                newScript.onload = resolve;\n",
       "                document.body.appendChild(newScript);\n",
       "                newScript.src = url;\n",
       "            });\n",
       "            }\n",
       "            loadScript(\"https://cdn.jsdelivr.net/npm/postmate/build/postmate.min.js\").then(() => {\n",
       "            const iframe = document.createElement('iframe')\n",
       "            iframe.style.cssText = \"width:0;height:0;border:none\"\n",
       "            document.body.appendChild(iframe)\n",
       "            const handshake = new Postmate({\n",
       "                container: iframe,\n",
       "                url: 'https://wandb.ai/authorize'\n",
       "            });\n",
       "            const timeout = setTimeout(() => reject(\"Couldn't auto authenticate\"), 5000)\n",
       "            handshake.then(function(child) {\n",
       "                child.on('authorize', data => {\n",
       "                    clearTimeout(timeout)\n",
       "                    resolve(data)\n",
       "                });\n",
       "            });\n",
       "            })\n",
       "        });\n",
       "    "
      ],
      "text/plain": [
       "<IPython.core.display.Javascript object>"
      ]
     },
     "metadata": {
      "tags": []
     },
     "output_type": "display_data"
    },
    {
     "name": "stderr",
     "output_type": "stream",
     "text": [
      "\u001b[34m\u001b[1mwandb\u001b[0m: Appending key for api.wandb.ai to your netrc file: /root/.netrc\n"
     ]
    },
    {
     "data": {
      "text/html": [
       "\n",
       "                Tracking run with wandb version 0.10.31<br/>\n",
       "                Syncing run <strong style=\"color:#cdcd00\">rural-plant-1</strong> to <a href=\"https://wandb.ai\" target=\"_blank\">Weights & Biases</a> <a href=\"https://docs.wandb.com/integrations/jupyter.html\" target=\"_blank\">(Documentation)</a>.<br/>\n",
       "                Project page: <a href=\"https://wandb.ai/miclape/uncategorized\" target=\"_blank\">https://wandb.ai/miclape/uncategorized</a><br/>\n",
       "                Run page: <a href=\"https://wandb.ai/miclape/uncategorized/runs/r4u0opvs\" target=\"_blank\">https://wandb.ai/miclape/uncategorized/runs/r4u0opvs</a><br/>\n",
       "                Run data is saved locally in <code>/content/wandb/run-20210530_083109-r4u0opvs</code><br/><br/>\n",
       "            "
      ],
      "text/plain": [
       "<IPython.core.display.HTML object>"
      ]
     },
     "metadata": {
      "tags": []
     },
     "output_type": "display_data"
    },
    {
     "name": "stdout",
     "output_type": "stream",
     "text": [
      "Epoch 1 Batch 0 Loss 5.2556 Accuracy 0.0096\n",
      "Epoch 1 Batch 50 Loss 4.1858 Accuracy 0.1067\n",
      "Epoch 1 Batch 100 Loss 3.6529 Accuracy 0.1588\n",
      "Epoch 1 Batch 150 Loss 3.4032 Accuracy 0.1833\n",
      "Epoch 1 Batch 200 Loss 3.1710 Accuracy 0.2137\n",
      "Epoch 1 Batch 250 Loss 2.9775 Accuracy 0.2399\n",
      "Epoch 1 Batch 300 Loss 2.8283 Accuracy 0.2600\n",
      "Epoch 1 Batch 350 Loss 2.7127 Accuracy 0.2754\n",
      "Epoch 1 Batch 400 Loss 2.6215 Accuracy 0.2877\n",
      "Epoch 1 Batch 0 Validation Loss 1.8824 Validation Accuracy 0.3955\n",
      "Epoch 1 Batch 50 Validation Loss 1.8906 Validation Accuracy 0.3962\n",
      "Epoch 1 Batch 100 Validation Loss 1.8892 Validation Accuracy 0.3961\n",
      "Epoch 1 Loss 2.5568 Accuracy 0.2964\n",
      "Time taken for 1 epoch: 87.73 secs\n",
      "\n",
      "Epoch 2 Batch 0 Loss 1.9097 Accuracy 0.3937\n",
      "Epoch 2 Batch 50 Loss 1.9288 Accuracy 0.3828\n",
      "Epoch 2 Batch 100 Loss 1.9184 Accuracy 0.3855\n",
      "Epoch 2 Batch 150 Loss 1.9057 Accuracy 0.3885\n",
      "Epoch 2 Batch 200 Loss 1.8911 Accuracy 0.3926\n",
      "Epoch 2 Batch 250 Loss 1.8755 Accuracy 0.3968\n",
      "Epoch 2 Batch 300 Loss 1.8590 Accuracy 0.4012\n",
      "Epoch 2 Batch 350 Loss 1.8422 Accuracy 0.4057\n",
      "Epoch 2 Batch 400 Loss 1.8249 Accuracy 0.4102\n",
      "Epoch 2 Batch 0 Validation Loss 1.6024 Validation Accuracy 0.4715\n",
      "Epoch 2 Batch 50 Validation Loss 1.5851 Validation Accuracy 0.4763\n",
      "Epoch 2 Batch 100 Validation Loss 1.5879 Validation Accuracy 0.4763\n",
      "Epoch 2 Loss 1.8098 Accuracy 0.4143\n",
      "Time taken for 1 epoch: 77.49 secs\n",
      "\n",
      "Epoch 3 Batch 0 Loss 1.6573 Accuracy 0.4566\n",
      "Epoch 3 Batch 50 Loss 1.6360 Accuracy 0.4628\n",
      "Epoch 3 Batch 100 Loss 1.6140 Accuracy 0.4694\n",
      "Epoch 3 Batch 150 Loss 1.5768 Accuracy 0.4818\n",
      "Epoch 3 Batch 200 Loss 1.5107 Accuracy 0.5044\n",
      "Epoch 3 Batch 250 Loss 1.4136 Accuracy 0.5361\n",
      "Epoch 3 Batch 300 Loss 1.3225 Accuracy 0.5657\n",
      "Epoch 3 Batch 350 Loss 1.2458 Accuracy 0.5906\n",
      "Epoch 3 Batch 400 Loss 1.1807 Accuracy 0.6115\n",
      "Epoch 3 Batch 0 Validation Loss 0.5368 Validation Accuracy 0.8195\n",
      "Epoch 3 Batch 50 Validation Loss 0.5457 Validation Accuracy 0.8167\n",
      "Epoch 3 Batch 100 Validation Loss 0.5461 Validation Accuracy 0.8165\n",
      "Epoch 3 Loss 1.1322 Accuracy 0.6273\n",
      "Time taken for 1 epoch: 77.71 secs\n",
      "\n",
      "Epoch 4 Batch 0 Loss 0.6992 Accuracy 0.7660\n",
      "Epoch 4 Batch 50 Loss 0.6482 Accuracy 0.7838\n",
      "Epoch 4 Batch 100 Loss 0.6303 Accuracy 0.7900\n",
      "Epoch 4 Batch 150 Loss 0.6160 Accuracy 0.7949\n",
      "Epoch 4 Batch 200 Loss 0.6051 Accuracy 0.7985\n",
      "Epoch 4 Batch 250 Loss 0.5937 Accuracy 0.8023\n",
      "Epoch 4 Batch 300 Loss 0.5849 Accuracy 0.8053\n",
      "Epoch 4 Batch 350 Loss 0.5763 Accuracy 0.8083\n",
      "Epoch 4 Batch 400 Loss 0.5681 Accuracy 0.8112\n",
      "Epoch 4 Batch 0 Validation Loss 0.4184 Validation Accuracy 0.8636\n",
      "Epoch 4 Batch 50 Validation Loss 0.4276 Validation Accuracy 0.8581\n",
      "Epoch 4 Batch 100 Validation Loss 0.4290 Validation Accuracy 0.8575\n",
      "Epoch 4 Loss 0.5622 Accuracy 0.8132\n",
      "Time taken for 1 epoch: 79.58 secs\n",
      "\n",
      "Epoch 5 Batch 0 Loss 0.5305 Accuracy 0.8255\n",
      "Epoch 5 Batch 50 Loss 0.4894 Accuracy 0.8374\n",
      "Epoch 5 Batch 100 Loss 0.4833 Accuracy 0.8397\n",
      "Epoch 5 Batch 150 Loss 0.4824 Accuracy 0.8402\n",
      "Epoch 5 Batch 200 Loss 0.4804 Accuracy 0.8409\n",
      "Epoch 5 Batch 250 Loss 0.4765 Accuracy 0.8424\n",
      "Epoch 5 Batch 300 Loss 0.4723 Accuracy 0.8437\n",
      "Epoch 5 Batch 350 Loss 0.4698 Accuracy 0.8446\n",
      "Epoch 5 Batch 400 Loss 0.4679 Accuracy 0.8453\n",
      "Epoch 5 Batch 0 Validation Loss 0.3542 Validation Accuracy 0.8804\n",
      "Epoch 5 Batch 50 Validation Loss 0.3750 Validation Accuracy 0.8753\n",
      "Epoch 5 Batch 100 Validation Loss 0.3739 Validation Accuracy 0.8757\n",
      "Epoch 5 Loss 0.4635 Accuracy 0.8467\n",
      "Time taken for 1 epoch: 79.23 secs\n",
      "\n",
      "Epoch 6 Batch 0 Loss 0.4244 Accuracy 0.8575\n",
      "Epoch 6 Batch 50 Loss 0.4272 Accuracy 0.8594\n",
      "Epoch 6 Batch 100 Loss 0.4276 Accuracy 0.8593\n",
      "Epoch 6 Batch 150 Loss 0.4289 Accuracy 0.8587\n",
      "Epoch 6 Batch 200 Loss 0.4242 Accuracy 0.8602\n",
      "Epoch 6 Batch 250 Loss 0.4207 Accuracy 0.8613\n",
      "Epoch 6 Batch 300 Loss 0.4201 Accuracy 0.8615\n",
      "Epoch 6 Batch 350 Loss 0.4189 Accuracy 0.8619\n",
      "Epoch 6 Batch 400 Loss 0.4164 Accuracy 0.8628\n",
      "Epoch 6 Batch 0 Validation Loss 0.3639 Validation Accuracy 0.8860\n",
      "Epoch 6 Batch 50 Validation Loss 0.3485 Validation Accuracy 0.8846\n",
      "Epoch 6 Batch 100 Validation Loss 0.3463 Validation Accuracy 0.8854\n",
      "Epoch 6 Loss 0.4138 Accuracy 0.8637\n",
      "Time taken for 1 epoch: 79.22 secs\n",
      "\n",
      "Epoch 7 Batch 0 Loss 0.3949 Accuracy 0.8701\n",
      "Epoch 7 Batch 50 Loss 0.3884 Accuracy 0.8725\n",
      "Epoch 7 Batch 100 Loss 0.3865 Accuracy 0.8729\n",
      "Epoch 7 Batch 150 Loss 0.3863 Accuracy 0.8729\n",
      "Epoch 7 Batch 200 Loss 0.3841 Accuracy 0.8736\n",
      "Epoch 7 Batch 250 Loss 0.3832 Accuracy 0.8740\n",
      "Epoch 7 Batch 300 Loss 0.3805 Accuracy 0.8750\n",
      "Epoch 7 Batch 350 Loss 0.3791 Accuracy 0.8755\n",
      "Epoch 7 Batch 400 Loss 0.3779 Accuracy 0.8759\n",
      "Epoch 7 Batch 0 Validation Loss 0.3332 Validation Accuracy 0.8871\n",
      "Epoch 7 Batch 50 Validation Loss 0.3262 Validation Accuracy 0.8926\n",
      "Epoch 7 Batch 100 Validation Loss 0.3266 Validation Accuracy 0.8926\n",
      "Epoch 7 Loss 0.3766 Accuracy 0.8764\n",
      "Time taken for 1 epoch: 79.15 secs\n",
      "\n",
      "Epoch 8 Batch 0 Loss 0.3589 Accuracy 0.8792\n",
      "Epoch 8 Batch 50 Loss 0.3580 Accuracy 0.8826\n",
      "Epoch 8 Batch 100 Loss 0.3595 Accuracy 0.8820\n",
      "Epoch 8 Batch 150 Loss 0.3584 Accuracy 0.8825\n",
      "Epoch 8 Batch 200 Loss 0.3566 Accuracy 0.8830\n",
      "Epoch 8 Batch 250 Loss 0.3552 Accuracy 0.8835\n",
      "Epoch 8 Batch 300 Loss 0.3545 Accuracy 0.8837\n",
      "Epoch 8 Batch 350 Loss 0.3537 Accuracy 0.8841\n",
      "Epoch 8 Batch 400 Loss 0.3533 Accuracy 0.8843\n",
      "Epoch 8 Batch 0 Validation Loss 0.3154 Validation Accuracy 0.8957\n",
      "Epoch 8 Batch 50 Validation Loss 0.3104 Validation Accuracy 0.8974\n",
      "Epoch 8 Batch 100 Validation Loss 0.3100 Validation Accuracy 0.8975\n",
      "Epoch 8 Loss 0.3522 Accuracy 0.8846\n",
      "Time taken for 1 epoch: 78.94 secs\n",
      "\n",
      "Epoch 9 Batch 0 Loss 0.3298 Accuracy 0.8912\n",
      "Epoch 9 Batch 50 Loss 0.3390 Accuracy 0.8886\n",
      "Epoch 9 Batch 100 Loss 0.3397 Accuracy 0.8885\n",
      "Epoch 9 Batch 150 Loss 0.3397 Accuracy 0.8886\n",
      "Epoch 9 Batch 200 Loss 0.3410 Accuracy 0.8881\n",
      "Epoch 9 Batch 250 Loss 0.3400 Accuracy 0.8884\n",
      "Epoch 9 Batch 300 Loss 0.3397 Accuracy 0.8887\n",
      "Epoch 9 Batch 350 Loss 0.3391 Accuracy 0.8889\n",
      "Epoch 9 Batch 400 Loss 0.3386 Accuracy 0.8891\n",
      "Epoch 9 Batch 0 Validation Loss 0.2955 Validation Accuracy 0.9003\n",
      "Epoch 9 Batch 50 Validation Loss 0.3063 Validation Accuracy 0.8990\n",
      "Epoch 9 Batch 100 Validation Loss 0.3057 Validation Accuracy 0.8994\n",
      "Epoch 9 Loss 0.3379 Accuracy 0.8894\n",
      "Time taken for 1 epoch: 79.06 secs\n",
      "\n",
      "Epoch 10 Batch 0 Loss 0.3425 Accuracy 0.8886\n",
      "Epoch 10 Batch 50 Loss 0.3289 Accuracy 0.8919\n",
      "Epoch 10 Batch 100 Loss 0.3272 Accuracy 0.8924\n",
      "Epoch 10 Batch 150 Loss 0.3262 Accuracy 0.8930\n",
      "Epoch 10 Batch 200 Loss 0.3258 Accuracy 0.8932\n",
      "Epoch 10 Batch 250 Loss 0.3259 Accuracy 0.8932\n",
      "Epoch 10 Batch 300 Loss 0.3257 Accuracy 0.8933\n",
      "Epoch 10 Batch 350 Loss 0.3255 Accuracy 0.8933\n",
      "Epoch 10 Batch 400 Loss 0.3248 Accuracy 0.8935\n",
      "Epoch 10 Batch 0 Validation Loss 0.3152 Validation Accuracy 0.8987\n",
      "Epoch 10 Batch 50 Validation Loss 0.2965 Validation Accuracy 0.9022\n",
      "Epoch 10 Batch 100 Validation Loss 0.2967 Validation Accuracy 0.9020\n",
      "Epoch 10 Loss 0.3241 Accuracy 0.8937\n",
      "Time taken for 1 epoch: 85.36 secs\n",
      "\n",
      "Epoch 11 Batch 0 Loss 0.3195 Accuracy 0.8935\n",
      "Epoch 11 Batch 50 Loss 0.3154 Accuracy 0.8962\n",
      "Epoch 11 Batch 100 Loss 0.3160 Accuracy 0.8964\n",
      "Epoch 11 Batch 150 Loss 0.3147 Accuracy 0.8964\n",
      "Epoch 11 Batch 200 Loss 0.3143 Accuracy 0.8965\n",
      "Epoch 11 Batch 250 Loss 0.3138 Accuracy 0.8968\n",
      "Epoch 11 Batch 300 Loss 0.3134 Accuracy 0.8969\n",
      "Epoch 11 Batch 350 Loss 0.3129 Accuracy 0.8971\n",
      "Epoch 11 Batch 400 Loss 0.3120 Accuracy 0.8974\n",
      "Epoch 11 Batch 0 Validation Loss 0.2729 Validation Accuracy 0.9066\n",
      "Epoch 11 Batch 50 Validation Loss 0.2879 Validation Accuracy 0.9045\n",
      "Epoch 11 Batch 100 Validation Loss 0.2862 Validation Accuracy 0.9053\n",
      "Epoch 11 Loss 0.3115 Accuracy 0.8977\n",
      "Time taken for 1 epoch: 79.26 secs\n",
      "\n",
      "Epoch 12 Batch 0 Loss 0.3074 Accuracy 0.9020\n",
      "Epoch 12 Batch 50 Loss 0.3001 Accuracy 0.9006\n",
      "Epoch 12 Batch 100 Loss 0.3027 Accuracy 0.9002\n",
      "Epoch 12 Batch 150 Loss 0.3026 Accuracy 0.9003\n",
      "Epoch 12 Batch 200 Loss 0.3024 Accuracy 0.9005\n",
      "Epoch 12 Batch 250 Loss 0.3025 Accuracy 0.9005\n",
      "Epoch 12 Batch 300 Loss 0.3026 Accuracy 0.9005\n",
      "Epoch 12 Batch 350 Loss 0.3023 Accuracy 0.9005\n",
      "Epoch 12 Batch 400 Loss 0.3020 Accuracy 0.9006\n",
      "Epoch 12 Batch 0 Validation Loss 0.2838 Validation Accuracy 0.9048\n",
      "Epoch 12 Batch 50 Validation Loss 0.2786 Validation Accuracy 0.9077\n",
      "Epoch 12 Batch 100 Validation Loss 0.2779 Validation Accuracy 0.9078\n",
      "Epoch 12 Loss 0.3018 Accuracy 0.9006\n",
      "Time taken for 1 epoch: 78.86 secs\n",
      "\n",
      "Epoch 13 Batch 0 Loss 0.2993 Accuracy 0.9008\n",
      "Epoch 13 Batch 50 Loss 0.2942 Accuracy 0.9032\n",
      "Epoch 13 Batch 100 Loss 0.2937 Accuracy 0.9032\n",
      "Epoch 13 Batch 150 Loss 0.2944 Accuracy 0.9031\n",
      "Epoch 13 Batch 200 Loss 0.2942 Accuracy 0.9033\n",
      "Epoch 13 Batch 250 Loss 0.2946 Accuracy 0.9032\n",
      "Epoch 13 Batch 300 Loss 0.2941 Accuracy 0.9032\n",
      "Epoch 13 Batch 350 Loss 0.2938 Accuracy 0.9033\n",
      "Epoch 13 Batch 400 Loss 0.2936 Accuracy 0.9033\n",
      "Epoch 13 Batch 0 Validation Loss 0.2779 Validation Accuracy 0.9071\n",
      "Epoch 13 Batch 50 Validation Loss 0.2707 Validation Accuracy 0.9094\n",
      "Epoch 13 Batch 100 Validation Loss 0.2700 Validation Accuracy 0.9101\n",
      "Epoch 13 Loss 0.2937 Accuracy 0.9033\n",
      "Time taken for 1 epoch: 78.92 secs\n",
      "\n",
      "Epoch 14 Batch 0 Loss 0.2927 Accuracy 0.9038\n",
      "Epoch 14 Batch 50 Loss 0.2872 Accuracy 0.9050\n",
      "Epoch 14 Batch 100 Loss 0.2872 Accuracy 0.9051\n",
      "Epoch 14 Batch 150 Loss 0.2874 Accuracy 0.9051\n",
      "Epoch 14 Batch 200 Loss 0.2875 Accuracy 0.9050\n",
      "Epoch 14 Batch 250 Loss 0.2874 Accuracy 0.9050\n",
      "Epoch 14 Batch 300 Loss 0.2869 Accuracy 0.9051\n",
      "Epoch 14 Batch 350 Loss 0.2869 Accuracy 0.9051\n",
      "Epoch 14 Batch 400 Loss 0.2869 Accuracy 0.9051\n",
      "Epoch 14 Batch 0 Validation Loss 0.2817 Validation Accuracy 0.9073\n",
      "Epoch 14 Batch 50 Validation Loss 0.2649 Validation Accuracy 0.9124\n",
      "Epoch 14 Batch 100 Validation Loss 0.2662 Validation Accuracy 0.9116\n",
      "Epoch 14 Loss 0.2867 Accuracy 0.9052\n",
      "Time taken for 1 epoch: 79.01 secs\n",
      "\n",
      "Epoch 15 Batch 0 Loss 0.2790 Accuracy 0.9090\n",
      "Epoch 15 Batch 50 Loss 0.2787 Accuracy 0.9081\n",
      "Epoch 15 Batch 100 Loss 0.2799 Accuracy 0.9073\n",
      "Epoch 15 Batch 150 Loss 0.2810 Accuracy 0.9070\n",
      "Epoch 15 Batch 200 Loss 0.2810 Accuracy 0.9069\n",
      "Epoch 15 Batch 250 Loss 0.2809 Accuracy 0.9069\n",
      "Epoch 15 Batch 300 Loss 0.2810 Accuracy 0.9070\n",
      "Epoch 15 Batch 350 Loss 0.2812 Accuracy 0.9070\n",
      "Epoch 15 Batch 400 Loss 0.2811 Accuracy 0.9070\n",
      "Epoch 15 Batch 0 Validation Loss 0.2600 Validation Accuracy 0.9141\n",
      "Epoch 15 Batch 50 Validation Loss 0.2602 Validation Accuracy 0.9129\n",
      "Epoch 15 Batch 100 Validation Loss 0.2605 Validation Accuracy 0.9132\n",
      "Epoch 15 Loss 0.2810 Accuracy 0.9071\n",
      "Time taken for 1 epoch: 78.97 secs\n",
      "\n",
      "Epoch 16 Batch 0 Loss 0.2760 Accuracy 0.9067\n",
      "Epoch 16 Batch 50 Loss 0.2753 Accuracy 0.9089\n",
      "Epoch 16 Batch 100 Loss 0.2762 Accuracy 0.9086\n",
      "Epoch 16 Batch 150 Loss 0.2764 Accuracy 0.9084\n",
      "Epoch 16 Batch 200 Loss 0.2764 Accuracy 0.9083\n",
      "Epoch 16 Batch 250 Loss 0.2768 Accuracy 0.9083\n",
      "Epoch 16 Batch 300 Loss 0.2766 Accuracy 0.9083\n",
      "Epoch 16 Batch 350 Loss 0.2763 Accuracy 0.9083\n",
      "Epoch 16 Batch 400 Loss 0.2761 Accuracy 0.9084\n",
      "Epoch 16 Batch 0 Validation Loss 0.2463 Validation Accuracy 0.9169\n",
      "Epoch 16 Batch 50 Validation Loss 0.2559 Validation Accuracy 0.9148\n",
      "Epoch 16 Batch 100 Validation Loss 0.2558 Validation Accuracy 0.9146\n",
      "Epoch 16 Loss 0.2761 Accuracy 0.9084\n",
      "Time taken for 1 epoch: 78.74 secs\n",
      "\n",
      "Epoch 17 Batch 0 Loss 0.2741 Accuracy 0.9099\n",
      "Epoch 17 Batch 50 Loss 0.2709 Accuracy 0.9100\n",
      "Epoch 17 Batch 100 Loss 0.2711 Accuracy 0.9098\n",
      "Epoch 17 Batch 150 Loss 0.2715 Accuracy 0.9098\n",
      "Epoch 17 Batch 200 Loss 0.2710 Accuracy 0.9100\n",
      "Epoch 17 Batch 250 Loss 0.2715 Accuracy 0.9099\n",
      "Epoch 17 Batch 300 Loss 0.2716 Accuracy 0.9098\n",
      "Epoch 17 Batch 350 Loss 0.2717 Accuracy 0.9098\n",
      "Epoch 17 Batch 400 Loss 0.2715 Accuracy 0.9098\n",
      "Epoch 17 Batch 0 Validation Loss 0.2574 Validation Accuracy 0.9160\n",
      "Epoch 17 Batch 50 Validation Loss 0.2527 Validation Accuracy 0.9151\n",
      "Epoch 17 Batch 100 Validation Loss 0.2528 Validation Accuracy 0.9152\n",
      "Epoch 17 Loss 0.2713 Accuracy 0.9099\n",
      "Time taken for 1 epoch: 78.99 secs\n",
      "\n",
      "Epoch 18 Batch 0 Loss 0.2573 Accuracy 0.9124\n",
      "Epoch 18 Batch 50 Loss 0.2674 Accuracy 0.9108\n",
      "Epoch 18 Batch 100 Loss 0.2676 Accuracy 0.9109\n",
      "Epoch 18 Batch 150 Loss 0.2681 Accuracy 0.9108\n",
      "Epoch 18 Batch 200 Loss 0.2678 Accuracy 0.9108\n",
      "Epoch 18 Batch 250 Loss 0.2675 Accuracy 0.9111\n",
      "Epoch 18 Batch 300 Loss 0.2672 Accuracy 0.9112\n",
      "Epoch 18 Batch 350 Loss 0.2675 Accuracy 0.9111\n",
      "Epoch 18 Batch 400 Loss 0.2676 Accuracy 0.9111\n",
      "Epoch 18 Batch 0 Validation Loss 0.2459 Validation Accuracy 0.9209\n",
      "Epoch 18 Batch 50 Validation Loss 0.2492 Validation Accuracy 0.9169\n",
      "Epoch 18 Batch 100 Validation Loss 0.2482 Validation Accuracy 0.9171\n",
      "Epoch 18 Loss 0.2676 Accuracy 0.9111\n",
      "Time taken for 1 epoch: 78.82 secs\n",
      "\n",
      "Epoch 19 Batch 0 Loss 0.2607 Accuracy 0.9131\n",
      "Epoch 19 Batch 50 Loss 0.2609 Accuracy 0.9133\n",
      "Epoch 19 Batch 100 Loss 0.2621 Accuracy 0.9130\n",
      "Epoch 19 Batch 150 Loss 0.2621 Accuracy 0.9129\n",
      "Epoch 19 Batch 200 Loss 0.2627 Accuracy 0.9127\n",
      "Epoch 19 Batch 250 Loss 0.2631 Accuracy 0.9125\n",
      "Epoch 19 Batch 300 Loss 0.2636 Accuracy 0.9124\n",
      "Epoch 19 Batch 350 Loss 0.2636 Accuracy 0.9124\n",
      "Epoch 19 Batch 400 Loss 0.2640 Accuracy 0.9123\n",
      "Epoch 19 Batch 0 Validation Loss 0.2459 Validation Accuracy 0.9179\n",
      "Epoch 19 Batch 50 Validation Loss 0.2453 Validation Accuracy 0.9181\n",
      "Epoch 19 Batch 100 Validation Loss 0.2451 Validation Accuracy 0.9179\n",
      "Epoch 19 Loss 0.2640 Accuracy 0.9123\n",
      "Time taken for 1 epoch: 78.80 secs\n",
      "\n",
      "Epoch 20 Batch 0 Loss 0.2612 Accuracy 0.9134\n",
      "Epoch 20 Batch 50 Loss 0.2593 Accuracy 0.9139\n",
      "Epoch 20 Batch 100 Loss 0.2600 Accuracy 0.9134\n",
      "Epoch 20 Batch 150 Loss 0.2595 Accuracy 0.9135\n",
      "Epoch 20 Batch 200 Loss 0.2603 Accuracy 0.9132\n",
      "Epoch 20 Batch 250 Loss 0.2607 Accuracy 0.9130\n",
      "Epoch 20 Batch 300 Loss 0.2605 Accuracy 0.9131\n",
      "Epoch 20 Batch 350 Loss 0.2606 Accuracy 0.9131\n",
      "Epoch 20 Batch 400 Loss 0.2606 Accuracy 0.9132\n",
      "Epoch 20 Batch 0 Validation Loss 0.2577 Validation Accuracy 0.9146\n",
      "Epoch 20 Batch 50 Validation Loss 0.2426 Validation Accuracy 0.9184\n",
      "Epoch 20 Batch 100 Validation Loss 0.2425 Validation Accuracy 0.9186\n",
      "Epoch 20 Loss 0.2607 Accuracy 0.9132\n",
      "Time taken for 1 epoch: 78.65 secs\n",
      "\n",
      "Epoch 21 Batch 0 Loss 0.2638 Accuracy 0.9130\n",
      "Epoch 21 Batch 50 Loss 0.2569 Accuracy 0.9145\n",
      "Epoch 21 Batch 100 Loss 0.2557 Accuracy 0.9148\n",
      "Epoch 21 Batch 150 Loss 0.2560 Accuracy 0.9145\n",
      "Epoch 21 Batch 200 Loss 0.2568 Accuracy 0.9143\n",
      "Epoch 21 Batch 250 Loss 0.2574 Accuracy 0.9142\n",
      "Epoch 21 Batch 300 Loss 0.2577 Accuracy 0.9141\n",
      "Epoch 21 Batch 350 Loss 0.2577 Accuracy 0.9141\n",
      "Epoch 21 Batch 400 Loss 0.2577 Accuracy 0.9141\n",
      "Epoch 21 Batch 0 Validation Loss 0.2341 Validation Accuracy 0.9185\n",
      "Epoch 21 Batch 50 Validation Loss 0.2406 Validation Accuracy 0.9194\n",
      "Epoch 21 Batch 100 Validation Loss 0.2390 Validation Accuracy 0.9198\n",
      "Epoch 21 Loss 0.2579 Accuracy 0.9140\n",
      "Time taken for 1 epoch: 78.76 secs\n",
      "\n",
      "Epoch 22 Batch 0 Loss 0.2487 Accuracy 0.9171\n",
      "Epoch 22 Batch 50 Loss 0.2523 Accuracy 0.9155\n",
      "Epoch 22 Batch 100 Loss 0.2542 Accuracy 0.9151\n",
      "Epoch 22 Batch 150 Loss 0.2532 Accuracy 0.9154\n",
      "Epoch 22 Batch 200 Loss 0.2544 Accuracy 0.9150\n",
      "Epoch 22 Batch 250 Loss 0.2543 Accuracy 0.9150\n",
      "Epoch 22 Batch 300 Loss 0.2545 Accuracy 0.9150\n",
      "Epoch 22 Batch 350 Loss 0.2545 Accuracy 0.9150\n",
      "Epoch 22 Batch 400 Loss 0.2548 Accuracy 0.9149\n",
      "Epoch 22 Batch 0 Validation Loss 0.2443 Validation Accuracy 0.9185\n",
      "Epoch 22 Batch 50 Validation Loss 0.2360 Validation Accuracy 0.9206\n",
      "Epoch 22 Batch 100 Validation Loss 0.2361 Validation Accuracy 0.9206\n",
      "Epoch 22 Loss 0.2548 Accuracy 0.9149\n",
      "Time taken for 1 epoch: 78.85 secs\n",
      "\n",
      "Epoch 23 Batch 0 Loss 0.2571 Accuracy 0.9122\n",
      "Epoch 23 Batch 50 Loss 0.2501 Accuracy 0.9161\n",
      "Epoch 23 Batch 100 Loss 0.2514 Accuracy 0.9161\n",
      "Epoch 23 Batch 150 Loss 0.2509 Accuracy 0.9161\n",
      "Epoch 23 Batch 200 Loss 0.2511 Accuracy 0.9160\n",
      "Epoch 23 Batch 250 Loss 0.2515 Accuracy 0.9159\n",
      "Epoch 23 Batch 300 Loss 0.2518 Accuracy 0.9158\n",
      "Epoch 23 Batch 350 Loss 0.2516 Accuracy 0.9158\n",
      "Epoch 23 Batch 400 Loss 0.2520 Accuracy 0.9157\n",
      "Epoch 23 Batch 0 Validation Loss 0.2330 Validation Accuracy 0.9201\n",
      "Epoch 23 Batch 50 Validation Loss 0.2345 Validation Accuracy 0.9209\n",
      "Epoch 23 Batch 100 Validation Loss 0.2341 Validation Accuracy 0.9211\n",
      "Epoch 23 Loss 0.2522 Accuracy 0.9157\n",
      "Time taken for 1 epoch: 78.71 secs\n",
      "\n",
      "Epoch 24 Batch 0 Loss 0.2428 Accuracy 0.9193\n",
      "Epoch 24 Batch 50 Loss 0.2442 Accuracy 0.9181\n",
      "Epoch 24 Batch 100 Loss 0.2463 Accuracy 0.9173\n",
      "Epoch 24 Batch 150 Loss 0.2474 Accuracy 0.9171\n",
      "Epoch 24 Batch 200 Loss 0.2484 Accuracy 0.9168\n",
      "Epoch 24 Batch 250 Loss 0.2484 Accuracy 0.9168\n",
      "Epoch 24 Batch 300 Loss 0.2488 Accuracy 0.9167\n",
      "Epoch 24 Batch 350 Loss 0.2493 Accuracy 0.9166\n",
      "Epoch 24 Batch 400 Loss 0.2495 Accuracy 0.9165\n",
      "Epoch 24 Batch 0 Validation Loss 0.2371 Validation Accuracy 0.9189\n",
      "Epoch 24 Batch 50 Validation Loss 0.2311 Validation Accuracy 0.9223\n",
      "Epoch 24 Batch 100 Validation Loss 0.2302 Validation Accuracy 0.9224\n",
      "Epoch 24 Loss 0.2496 Accuracy 0.9165\n",
      "Time taken for 1 epoch: 78.75 secs\n",
      "\n",
      "Epoch 25 Batch 0 Loss 0.2307 Accuracy 0.9217\n",
      "Epoch 25 Batch 50 Loss 0.2448 Accuracy 0.9182\n",
      "Epoch 25 Batch 100 Loss 0.2447 Accuracy 0.9183\n",
      "Epoch 25 Batch 150 Loss 0.2454 Accuracy 0.9179\n",
      "Epoch 25 Batch 200 Loss 0.2461 Accuracy 0.9176\n",
      "Epoch 25 Batch 250 Loss 0.2463 Accuracy 0.9176\n",
      "Epoch 25 Batch 300 Loss 0.2467 Accuracy 0.9175\n",
      "Epoch 25 Batch 350 Loss 0.2468 Accuracy 0.9175\n",
      "Epoch 25 Batch 400 Loss 0.2472 Accuracy 0.9174\n",
      "Epoch 25 Batch 0 Validation Loss 0.2289 Validation Accuracy 0.9210\n",
      "Epoch 25 Batch 50 Validation Loss 0.2273 Validation Accuracy 0.9233\n",
      "Epoch 25 Batch 100 Validation Loss 0.2277 Validation Accuracy 0.9229\n",
      "Epoch 25 Loss 0.2472 Accuracy 0.9173\n",
      "Time taken for 1 epoch: 78.80 secs\n",
      "\n",
      "Epoch 26 Batch 0 Loss 0.2475 Accuracy 0.9163\n",
      "Epoch 26 Batch 50 Loss 0.2437 Accuracy 0.9184\n",
      "Epoch 26 Batch 100 Loss 0.2439 Accuracy 0.9181\n",
      "Epoch 26 Batch 150 Loss 0.2444 Accuracy 0.9181\n",
      "Epoch 26 Batch 200 Loss 0.2447 Accuracy 0.9180\n",
      "Epoch 26 Batch 250 Loss 0.2450 Accuracy 0.9179\n",
      "Epoch 26 Batch 300 Loss 0.2448 Accuracy 0.9179\n",
      "Epoch 26 Batch 350 Loss 0.2451 Accuracy 0.9179\n",
      "Epoch 26 Batch 400 Loss 0.2452 Accuracy 0.9179\n",
      "Epoch 26 Batch 0 Validation Loss 0.2133 Validation Accuracy 0.9293\n",
      "Epoch 26 Batch 50 Validation Loss 0.2255 Validation Accuracy 0.9234\n",
      "Epoch 26 Batch 100 Validation Loss 0.2258 Validation Accuracy 0.9234\n",
      "Epoch 26 Loss 0.2452 Accuracy 0.9179\n",
      "Time taken for 1 epoch: 78.62 secs\n",
      "\n",
      "Epoch 27 Batch 0 Loss 0.2394 Accuracy 0.9200\n",
      "Epoch 27 Batch 50 Loss 0.2406 Accuracy 0.9197\n",
      "Epoch 27 Batch 100 Loss 0.2410 Accuracy 0.9193\n",
      "Epoch 27 Batch 150 Loss 0.2417 Accuracy 0.9189\n",
      "Epoch 27 Batch 200 Loss 0.2422 Accuracy 0.9187\n",
      "Epoch 27 Batch 250 Loss 0.2426 Accuracy 0.9186\n",
      "Epoch 27 Batch 300 Loss 0.2425 Accuracy 0.9187\n",
      "Epoch 27 Batch 350 Loss 0.2429 Accuracy 0.9186\n",
      "Epoch 27 Batch 400 Loss 0.2428 Accuracy 0.9187\n",
      "Epoch 27 Batch 0 Validation Loss 0.2235 Validation Accuracy 0.9229\n",
      "Epoch 27 Batch 50 Validation Loss 0.2229 Validation Accuracy 0.9249\n",
      "Epoch 27 Batch 100 Validation Loss 0.2236 Validation Accuracy 0.9247\n",
      "Epoch 27 Loss 0.2430 Accuracy 0.9186\n",
      "Time taken for 1 epoch: 78.67 secs\n",
      "\n",
      "Epoch 28 Batch 0 Loss 0.2384 Accuracy 0.9190\n",
      "Epoch 28 Batch 50 Loss 0.2366 Accuracy 0.9200\n",
      "Epoch 28 Batch 100 Loss 0.2377 Accuracy 0.9198\n",
      "Epoch 28 Batch 150 Loss 0.2384 Accuracy 0.9197\n",
      "Epoch 28 Batch 200 Loss 0.2392 Accuracy 0.9195\n",
      "Epoch 28 Batch 250 Loss 0.2392 Accuracy 0.9196\n",
      "Epoch 28 Batch 300 Loss 0.2396 Accuracy 0.9196\n",
      "Epoch 28 Batch 350 Loss 0.2402 Accuracy 0.9194\n",
      "Epoch 28 Batch 400 Loss 0.2405 Accuracy 0.9193\n",
      "Epoch 28 Batch 0 Validation Loss 0.2215 Validation Accuracy 0.9250\n",
      "Epoch 28 Batch 50 Validation Loss 0.2230 Validation Accuracy 0.9249\n",
      "Epoch 28 Batch 100 Validation Loss 0.2221 Validation Accuracy 0.9250\n",
      "Epoch 28 Loss 0.2408 Accuracy 0.9192\n",
      "Time taken for 1 epoch: 78.81 secs\n",
      "\n",
      "Epoch 29 Batch 0 Loss 0.2291 Accuracy 0.9241\n",
      "Epoch 29 Batch 50 Loss 0.2351 Accuracy 0.9212\n",
      "Epoch 29 Batch 100 Loss 0.2355 Accuracy 0.9207\n",
      "Epoch 29 Batch 150 Loss 0.2367 Accuracy 0.9204\n",
      "Epoch 29 Batch 200 Loss 0.2372 Accuracy 0.9202\n",
      "Epoch 29 Batch 250 Loss 0.2376 Accuracy 0.9201\n",
      "Epoch 29 Batch 300 Loss 0.2377 Accuracy 0.9201\n",
      "Epoch 29 Batch 350 Loss 0.2381 Accuracy 0.9201\n",
      "Epoch 29 Batch 400 Loss 0.2386 Accuracy 0.9199\n",
      "Epoch 29 Batch 0 Validation Loss 0.2289 Validation Accuracy 0.9216\n",
      "Epoch 29 Batch 50 Validation Loss 0.2195 Validation Accuracy 0.9256\n",
      "Epoch 29 Batch 100 Validation Loss 0.2200 Validation Accuracy 0.9256\n",
      "Epoch 29 Loss 0.2390 Accuracy 0.9198\n",
      "Time taken for 1 epoch: 78.74 secs\n",
      "\n",
      "Epoch 30 Batch 0 Loss 0.2376 Accuracy 0.9240\n",
      "Epoch 30 Batch 50 Loss 0.2356 Accuracy 0.9206\n",
      "Epoch 30 Batch 100 Loss 0.2351 Accuracy 0.9207\n",
      "Epoch 30 Batch 150 Loss 0.2352 Accuracy 0.9207\n",
      "Epoch 30 Batch 200 Loss 0.2353 Accuracy 0.9207\n",
      "Epoch 30 Batch 250 Loss 0.2357 Accuracy 0.9207\n",
      "Epoch 30 Batch 300 Loss 0.2363 Accuracy 0.9206\n",
      "Epoch 30 Batch 350 Loss 0.2364 Accuracy 0.9206\n",
      "Epoch 30 Batch 400 Loss 0.2366 Accuracy 0.9205\n",
      "Epoch 30 Batch 0 Validation Loss 0.2084 Validation Accuracy 0.9292\n",
      "Epoch 30 Batch 50 Validation Loss 0.2164 Validation Accuracy 0.9267\n",
      "Epoch 30 Batch 100 Validation Loss 0.2164 Validation Accuracy 0.9266\n",
      "Epoch 30 Loss 0.2369 Accuracy 0.9204\n",
      "Time taken for 1 epoch: 78.72 secs\n",
      "\n"
     ]
    }
   ],
   "source": [
    "wandb.init()\n",
    "transformer_trainer.train(dataset, 30, validation_dataset=val_dataset, validation_every=1, log_wandb=True)"
   ]
  },
  {
   "cell_type": "markdown",
   "metadata": {
    "id": "OWt3LC2Zl7UN"
   },
   "source": [
    "## 4. Generation"
   ]
  },
  {
   "cell_type": "code",
   "execution_count": 271,
   "metadata": {
    "gradient": {},
    "id": "MLJSJJCVnaKL"
   },
   "outputs": [],
   "source": [
    "def generate(transformer, input_sequence, target_sequence, input_tokenizer, target_tokenizer, steps, start_symbol, stop_symbol):\n",
    "\n",
    "    result = strip_tokens(target_tokenizer.sequences_to_texts(target_sequence)[0])\n",
    "    \n",
    "    encoder_input = input_sequence\n",
    "    decoder_input = target_sequence\n",
    "\n",
    "    for _ in range(steps):\n",
    "\n",
    "        encoder_input = tf.convert_to_tensor(encoder_input)\n",
    "        decoder_input = tf.convert_to_tensor(decoder_input)\n",
    "        output = evaluate(transformer, encoder_input, decoder_input, stop_symbol, choose_next_token=choose_topk)\n",
    "\n",
    "        # Detokenize output\n",
    "        generated_text = target_tokenizer.sequences_to_texts(output.numpy())[0]\n",
    "        \n",
    "        # Remove structural tokens (<EOV>, <GO>, <SEP>)\n",
    "        generated_text = strip_tokens(generated_text)\n",
    "        \n",
    "        # Split into verses\n",
    "        generated_verses = generated_text.split('\\n')\n",
    "        \n",
    "        # Append last generated verse to result\n",
    "        result = '\\n'.join([result, generated_verses[-1]])\n",
    "        \n",
    "        # Create input for next step by taking last three verses\n",
    "        next_input = '\\n'.join(generated_verses[-3:])\n",
    "        next_input = preprocess_text(next_input, end_of_tercet='')\n",
    "        \n",
    "        decoder_input = target_tokenizer.texts_to_sequences([next_input])\n",
    "        \n",
    "        # The encoder input should not have syllable separators\n",
    "        encoder_input = remove_syll_token(next_input)\n",
    "        encoder_input = input_tokenizer.texts_to_sequences([encoder_input])\n",
    "        \n",
    "    return result"
   ]
  },
  {
   "cell_type": "code",
   "execution_count": 292,
   "metadata": {
    "gradient": {},
    "id": "v5ZwOIEml7UP",
    "scrolled": true
   },
   "outputs": [],
   "source": [
    "start_symbol = target_tokenizer.word_index[\"<GO>\"]\n",
    "stop_symbol = target_tokenizer.word_index[\"<EOV>\"]\n",
    "\n",
    "encoder_input = [input_text[0]]\n",
    "decoder_input = [target_text_tercet[0]]\n",
    "\n",
    "result = generate(transformer, encoder_input, decoder_input, input_tokenizer, target_tokenizer, 1, start_symbol, stop_symbol)"
   ]
  },
  {
   "cell_type": "code",
   "execution_count": 299,
   "metadata": {},
   "outputs": [
    {
     "name": "stdout",
     "output_type": "stream",
     "text": [
      "|Nel |mez|zo |del |cam|min |di |no|stra |vi|ta\n",
      "|mi |ri|tro|vai |per |u|na |sel|va o|scu|ra,\n",
      "|ché |la |di|rit|ta |via |e|ra |smar|ri|ta.\n",
      "|E |quel|la |che |pa|ro|la |più |ch’ io |cu|ra\n"
     ]
    }
   ],
   "source": [
    "print(result)"
   ]
  },
  {
   "cell_type": "code",
   "execution_count": 293,
   "metadata": {
    "colab": {
     "base_uri": "https://localhost:8080/"
    },
    "gradient": {},
    "id": "rbN7xd5ZX5_4",
    "outputId": "ef667f56-5e12-479f-c91d-7e9339ab5426"
   },
   "outputs": [],
   "source": [
    "avg_syll, hend_ratio, rhyme_ratio, plagiarism, correctness, incorrectness_score = generation_metrics(result)"
   ]
  },
  {
   "cell_type": "code",
   "execution_count": 294,
   "metadata": {},
   "outputs": [
    {
     "name": "stdout",
     "output_type": "stream",
     "text": [
      "average syllables per verse: 11.0\n",
      "hendecasyllables ratio: 1.0\n",
      "rhyme_ratio: 1.0\n",
      "ngrams plagiarism: 0.6666666666666666\n",
      "correctness: 1.0\n",
      "incorrectness_score: 0.0\n",
      "\n"
     ]
    }
   ],
   "source": [
    "print(\"average syllables per verse: {}\\nhendecasyllables ratio: {}\\nrhyme_ratio: {}\\nngrams plagiarism: {}\\ncorrectness: {}\\nincorrectness_score: {}\\n\"\\\n",
    "      .format(avg_syll, hend_ratio, rhyme_ratio, plagiarism, correctness, incorrectness_score))"
   ]
  },
  {
   "cell_type": "markdown",
   "metadata": {
    "id": "XJ8V3_ZIX5_4"
   },
   "source": [
    "### Hendecasyllabicness"
   ]
  },
  {
   "cell_type": "code",
   "execution_count": 62,
   "metadata": {
    "gradient": {},
    "id": "_imHUafkX5_4",
    "outputId": "d138ca03-7d5e-42a5-8a60-44718f8b82fc"
   },
   "outputs": [],
   "source": [
    "result_verses = stripped_result.split(\"\\n\")"
   ]
  },
  {
   "cell_type": "code",
   "execution_count": 64,
   "metadata": {
    "gradient": {},
    "id": "jJlY06MKX5_5",
    "outputId": "4fe18f88-43a3-4175-c8ef-33ff94889252"
   },
   "outputs": [],
   "source": [
    "avg_syll = average_syllables(result_verses)"
   ]
  },
  {
   "cell_type": "code",
   "execution_count": 65,
   "metadata": {
    "gradient": {},
    "id": "mF5pJaZjX5_5",
    "outputId": "79e756b6-ba18-47c4-ac92-2952bf0a7efd"
   },
   "outputs": [],
   "source": [
    "hend_ratio = correct_hendecasyllables_ratio(result_verses)"
   ]
  },
  {
   "cell_type": "code",
   "execution_count": 69,
   "metadata": {},
   "outputs": [
    {
     "name": "stdout",
     "output_type": "stream",
     "text": [
      "Average number of syllables per verse: 11.0\n",
      "Ratio of hendecasyllables to total number of verses: 1.0\n"
     ]
    }
   ],
   "source": [
    "print('Average number of syllables per verse: {}'.format(avg_syll))\n",
    "print('Ratio of hendecasyllables to total number of verses: {}'.format(hend_ratio))"
   ]
  },
  {
   "cell_type": "markdown",
   "metadata": {
    "id": "KoPaDVXkqAGI"
   },
   "source": [
    "### Ngrams plagiarism"
   ]
  },
  {
   "cell_type": "code",
   "execution_count": 71,
   "metadata": {
    "colab": {
     "base_uri": "https://localhost:8080/",
     "height": 163
    },
    "gradient": {},
    "id": "QIAsEzakqN5Q",
    "outputId": "a6558b8f-c7b5-4043-a564-15cba94ab7fe"
   },
   "outputs": [],
   "source": [
    "original_text = preprocess_text(raw_text, end_of_verse='\\n', end_of_tercet='', start_of_verse='', word_level=True)\n",
    "original_text = re.sub(r' <SEP> ', ' ', original_text)"
   ]
  },
  {
   "cell_type": "code",
   "execution_count": 72,
   "metadata": {
    "id": "V7sLJ6QfOtT3"
   },
   "outputs": [],
   "source": [
    "result_verses = re.sub(r'\\|', '', strip_result)\n",
    "result_verses = remove_punctuation(result_verses)"
   ]
  },
  {
   "cell_type": "code",
   "execution_count": 73,
   "metadata": {
    "colab": {
     "base_uri": "https://localhost:8080/"
    },
    "gradient": {},
    "id": "zXFylUGNqQlu",
    "outputId": "6602166c-36a8-4882-f156-75de48d8bc3c"
   },
   "outputs": [],
   "source": [
    "plagiarism = ngrams_plagiarism(result_verses, original_text)"
   ]
  },
  {
   "cell_type": "code",
   "execution_count": 74,
   "metadata": {},
   "outputs": [
    {
     "name": "stdout",
     "output_type": "stream",
     "text": [
      "Plagiarism: 0.425\n"
     ]
    }
   ],
   "source": [
    "print('Plagiarism: {}'.format(plagiarism))"
   ]
  },
  {
   "cell_type": "markdown",
   "metadata": {
    "id": "DGLKbtWoqSoM"
   },
   "source": [
    "### Word correctness"
   ]
  },
  {
   "cell_type": "code",
   "execution_count": 75,
   "metadata": {
    "id": "vwQ5dYpSQbm4"
   },
   "outputs": [],
   "source": [
    "word_tokenizer = tf.keras.preprocessing.text.Tokenizer(filters='\\n-:,?“‘)—»«!”(\";.’ ', lower=False)\n",
    "word_tokenizer.fit_on_texts([raw_text])\n",
    "real_words = set(word_tokenizer.word_index.keys())"
   ]
  },
  {
   "cell_type": "code",
   "execution_count": 76,
   "metadata": {
    "id": "3NaV3qHEQIUB"
   },
   "outputs": [],
   "source": [
    "gen_tokenizer = tfds.deprecated.text.Tokenizer()\n",
    "gen_words = tokenizer.tokenize(result_verses)"
   ]
  },
  {
   "cell_type": "code",
   "execution_count": 78,
   "metadata": {
    "id": "LYVbfmW4QPEh"
   },
   "outputs": [],
   "source": [
    "correctness, errors = correct_words_ratio(gen_words, real_words, return_errors=True)\n",
    "incorrectness_score = incorrectness(set(gen_words), real_words)"
   ]
  },
  {
   "cell_type": "code",
   "execution_count": 82,
   "metadata": {},
   "outputs": [
    {
     "name": "stdout",
     "output_type": "stream",
     "text": [
      "Correct words: 97.67%\n"
     ]
    }
   ],
   "source": [
    "print('Correct words: {:.2f}%'.format(correctness * 100))"
   ]
  },
  {
   "cell_type": "markdown",
   "metadata": {},
   "source": [
    "The incorrectness score also considers \"how wrong\" a word is, by computing the edit distance between an incorrect word and the nearest correct word in the vocabulary."
   ]
  },
  {
   "cell_type": "code",
   "execution_count": 83,
   "metadata": {},
   "outputs": [
    {
     "name": "stdout",
     "output_type": "stream",
     "text": [
      "Incorrectness score: 0.06\n"
     ]
    }
   ],
   "source": [
    "print('Incorrectness score: {}'.format(incorrectness_score))"
   ]
  },
  {
   "cell_type": "markdown",
   "metadata": {
    "id": "1XgsYN5RQw-a"
   },
   "source": [
    "### Rhymeness"
   ]
  },
  {
   "cell_type": "code",
   "execution_count": 86,
   "metadata": {
    "id": "jmBpfTiUQzYZ"
   },
   "outputs": [],
   "source": [
    "result_verses = result_verses.split('\\n')\n",
    "rhyme_ratio = chained_rhymes_ratio(result_verses)"
   ]
  },
  {
   "cell_type": "code",
   "execution_count": 88,
   "metadata": {},
   "outputs": [
    {
     "name": "stdout",
     "output_type": "stream",
     "text": [
      "Correct rhymes ratio: 1.0\n"
     ]
    }
   ],
   "source": [
    "print('Correct rhymes ratio: {}'.format(rhyme_ratio))"
   ]
  },
  {
   "cell_type": "markdown",
   "metadata": {},
   "source": [
    "### Generation metrics function\n",
    "\n",
    "The following computes all generation metrics"
   ]
  },
  {
   "cell_type": "code",
   "execution_count": 307,
   "metadata": {},
   "outputs": [],
   "source": [
    "original_text = preprocess_text(raw_text, end_of_verse='\\n', end_of_tercet='', start_of_verse='', word_level=True)\n",
    "original_text = re.sub(r' <SEP> ', ' ', original_text)\n",
    "original_text\n",
    "\n",
    "# Get the set of real words from the Divine Comedy to evaluate word correctness\n",
    "# TODO create function to obtain word-level vocabulary from divine comedy\n",
    "word_tokenizer = tf.keras.preprocessing.text.Tokenizer(filters='\\n-:,?“‘)—»«!”(\";.’ ', lower=False)\n",
    "word_tokenizer.fit_on_texts([raw_text])\n",
    "real_words = set(word_tokenizer.word_index.keys())\n",
    "\n",
    "def generation_metrics(result):\n",
    "    # Generation metrics\n",
    "    # · Average syllables\n",
    "    # · Hendecasyllabicness\n",
    "    # · Correctness\n",
    "    # · Ngrams-plagiarism\n",
    "    # · Rhymeness\n",
    "    \n",
    "    result_verses = result.split(\"\\n\")\n",
    "    \n",
    "    avg_syll = average_syllables(result_verses)\n",
    "    hend_ratio = correct_hendecasyllables_ratio(result_verses)\n",
    "    \n",
    "    result_verses = re.sub(r'\\|', '', result)\n",
    "    result_verses = remove_punctuation(result_verses)\n",
    "\n",
    "    plagiarism = ngrams_plagiarism(result_verses, original_text)\n",
    "    \n",
    "    gen_tokenizer = tfds.deprecated.text.Tokenizer()\n",
    "    gen_words = tokenizer.tokenize(result_verses)\n",
    "    \n",
    "    correctness, _ = correct_words_ratio(gen_words, real_words, return_errors=True)\n",
    "    incorrectness_score = incorrectness(set(gen_words), real_words)\n",
    "            \n",
    "    result_verses = result_verses.split('\\n')\n",
    "    rhyme_ratio = chained_rhymes_ratio(result_verses)\n",
    "    \n",
    "    return avg_syll, hend_ratio, rhyme_ratio, plagiarism, correctness, incorrectness_score"
   ]
  },
  {
   "cell_type": "markdown",
   "metadata": {
    "id": "U46tRTY3l7UP"
   },
   "source": [
    "## 5. Syllabification"
   ]
  },
  {
   "cell_type": "markdown",
   "metadata": {
    "id": "ha1R7XI57R90"
   },
   "source": [
    "In order to perform syllabification we pass the tercet to the encoder and the `start_symbol` to the decoder."
   ]
  },
  {
   "cell_type": "code",
   "execution_count": 89,
   "metadata": {
    "id": "q2tQ2AHv24oh"
   },
   "outputs": [],
   "source": [
    "start_symbol = target_tokenizer.word_index[\"<GO>\"]\n",
    "stop_symbol = target_tokenizer.word_index[\"<EOV>\"]\n",
    "\n",
    "def syllabify_tercets(transformer, input_text):\n",
    "\n",
    "    output = []\n",
    "    \n",
    "    for i in tqdm.tqdm(range(len(input_text))):\n",
    "\n",
    "        encoder_input = tf.convert_to_tensor([input_text[i]])\n",
    "        decoder_input = tf.convert_to_tensor([[start_symbol]])\n",
    "\n",
    "        syll_output = evaluate(transformer, encoder_input, decoder_input, stop_symbol, max_length=400)\n",
    "        syll_output = target_tokenizer.sequences_to_texts(syll_output.numpy())[0]\n",
    "        syll_output = strip_tokens(syll_output)\n",
    "        syll_output = syll_output.split('\\n')[:3] # Only take first 3 produced verses \n",
    "\n",
    "        output += syll_output\n",
    "        \n",
    "    return output"
   ]
  },
  {
   "cell_type": "code",
   "execution_count": 281,
   "metadata": {},
   "outputs": [],
   "source": [
    "n_verses = 9\n",
    "\n",
    "# Obtain tercets from input and target \"windows\"\n",
    "syll_input = input_text[:n_verses:3]\n",
    "syll_input_text = strip_tokens(' '.join(input_tokenizer.sequences_to_texts(syll_input)))\n",
    "\n",
    "correct_syll = target_text_tercet[:n_verses:3]\n",
    "correct_syll = ' '.join(target_tokenizer.sequences_to_texts(correct_syll))\n",
    "correct_syll = strip_tokens(correct_syll)\n",
    "correct_syll = correct_syll.split('\\n')"
   ]
  },
  {
   "cell_type": "code",
   "execution_count": 282,
   "metadata": {
    "colab": {
     "base_uri": "https://localhost:8080/"
    },
    "id": "EOnb6L8X-RyH",
    "outputId": "a3d52656-d19e-452b-c51d-ca6f682b4667",
    "scrolled": true
   },
   "outputs": [
    {
     "name": "stderr",
     "output_type": "stream",
     "text": [
      "100%|██████████| 3/3 [00:34<00:00, 11.34s/it]\n"
     ]
    }
   ],
   "source": [
    "syll_output = syllabify_tercets(transformer, syll_input)"
   ]
  },
  {
   "cell_type": "code",
   "execution_count": 283,
   "metadata": {
    "colab": {
     "base_uri": "https://localhost:8080/"
    },
    "gradient": {},
    "id": "ieb_1LY5X6AC",
    "outputId": "bd8bfb86-909a-4adf-d071-7184d50fbd27"
   },
   "outputs": [
    {
     "data": {
      "text/plain": [
       "[(True, 1.0),\n",
       " (True, 1.0),\n",
       " (True, 1.0),\n",
       " (True, 1.0),\n",
       " (True, 1.0),\n",
       " (True, 1.0),\n",
       " (True, 1.0),\n",
       " (True, 1.0),\n",
       " (True, 1.0)]"
      ]
     },
     "execution_count": 283,
     "metadata": {},
     "output_type": "execute_result"
    }
   ],
   "source": [
    "validate_syllabification(syll_output, correct_syll)"
   ]
  },
  {
   "cell_type": "markdown",
   "metadata": {
    "id": "CdOJKFLmkoZo"
   },
   "source": [
    "Validation of the syllabification on input_val"
   ]
  },
  {
   "cell_type": "code",
   "execution_count": 113,
   "metadata": {
    "id": "XymUYKgf6H2s"
   },
   "outputs": [],
   "source": [
    "input_val_non_padded=[]\n",
    "for i in range(len(input_val)):\n",
    "    input_val_non_padded.append(input_val[i][input_val[i]!=0])\n",
    "\n",
    "target_tercet_val_non_padded=[]\n",
    "for i in range(len(target_tercet_val)):\n",
    "    target_tercet_val_non_padded.append(target_tercet_val[i][target_tercet_val[i]!=0])"
   ]
  },
  {
   "cell_type": "code",
   "execution_count": 146,
   "metadata": {},
   "outputs": [],
   "source": [
    "syll_input = input_val_non_padded[:10]\n",
    "correct_syll = target_tercet_val_non_padded[:10]\n",
    "correct_syll = target_tokenizer.sequences_to_texts(correct_syll)\n",
    "correct_syll = strip_tokens(' '.join(correct_syll))\n",
    "correct_syll = correct_syll.split('\\n')"
   ]
  },
  {
   "cell_type": "code",
   "execution_count": 147,
   "metadata": {
    "colab": {
     "base_uri": "https://localhost:8080/"
    },
    "id": "q3JR-q-c-Xli",
    "outputId": "fd839f4c-d736-46f5-e9c7-eec504001972",
    "scrolled": true
   },
   "outputs": [
    {
     "name": "stderr",
     "output_type": "stream",
     "text": [
      "100%|██████████| 10/10 [02:05<00:00, 12.57s/it]\n"
     ]
    }
   ],
   "source": [
    "syll_output = syllabify_tercets(transformer, syll_input)"
   ]
  },
  {
   "cell_type": "code",
   "execution_count": 150,
   "metadata": {},
   "outputs": [],
   "source": [
    "correct_verses, distances = zip(*validate_syllabification(syll_output, correct_syll))"
   ]
  },
  {
   "cell_type": "code",
   "execution_count": 155,
   "metadata": {},
   "outputs": [
    {
     "name": "stdout",
     "output_type": "stream",
     "text": [
      "Syllabification accuracy: 100.00%\n"
     ]
    }
   ],
   "source": [
    "print('Syllabification accuracy: {:.2f}%'.format(sum(correct_verses) / len(correct_verses) * 100))"
   ]
  },
  {
   "cell_type": "code",
   "execution_count": 159,
   "metadata": {},
   "outputs": [
    {
     "name": "stdout",
     "output_type": "stream",
     "text": [
      "Average levenshtein similarity to correct syllabification: 1.0\n"
     ]
    }
   ],
   "source": [
    "print('Average levenshtein similarity to correct syllabification: {}'.format(np.mean(distances)))"
   ]
  },
  {
   "cell_type": "markdown",
   "metadata": {
    "id": "CF-1it9jwtFn"
   },
   "source": [
    "Syllabification of the *Orlando Furioso* and comparison with Neural Poetry"
   ]
  },
  {
   "cell_type": "code",
   "execution_count": 160,
   "metadata": {
    "id": "rMBeTqg3StCX"
   },
   "outputs": [],
   "source": [
    "def is_not_number(string):\n",
    "    try:\n",
    "        int(string)\n",
    "        return False\n",
    "    except:\n",
    "        return True\n",
    "\n",
    "def is_not_chapter(string):\n",
    "    return not re.match(r'CANTO .*', string)"
   ]
  },
  {
   "cell_type": "code",
   "execution_count": 161,
   "metadata": {
    "id": "fWnsqKS0SywM"
   },
   "outputs": [],
   "source": [
    "raw_text_ariosto = open(\"./data/orlando-textonly.txt\", \"rb\").read().decode(encoding=\"utf-8\")\n",
    "raw_text_ariosto = raw_text_ariosto.split('\\n')\n",
    "raw_text_ariosto = list(map(lambda x: x.strip(), raw_text_ariosto))\n",
    "raw_text_ariosto = list(filter(is_not_empty, raw_text_ariosto))\n",
    "raw_text_ariosto = list(filter(is_not_number, raw_text_ariosto))\n",
    "raw_text_ariosto = list(filter(is_not_chapter, raw_text_ariosto))"
   ]
  },
  {
   "cell_type": "code",
   "execution_count": 173,
   "metadata": {
    "id": "wnknbsl-SD9g"
   },
   "outputs": [],
   "source": [
    "sep = \"<EOV>\"\n",
    "\n",
    "raw_text_ariosto_joined = \"\\n\".join(raw_text_ariosto)\n",
    "text_ariosto = preprocess_text(raw_text_ariosto_joined, end_of_tercet='')\n",
    "ariosto_verses = [x.lstrip() + sep for x in text_ariosto.split(sep)][:-1]\n",
    "enc_ariosto_verses = input_tokenizer.texts_to_sequences(ariosto_verses)"
   ]
  },
  {
   "cell_type": "markdown",
   "metadata": {},
   "source": [
    "Divide into tercets"
   ]
  },
  {
   "cell_type": "code",
   "execution_count": 175,
   "metadata": {
    "id": "fX_0eM6ZT30u"
   },
   "outputs": [],
   "source": [
    "ariosto_tercets = []\n",
    "\n",
    "for line in range(len(enc_ariosto_verses) - 2):\n",
    "    ariosto_tercets.append(list(chain(*enc_ariosto_verses[line : line + 3])))"
   ]
  },
  {
   "cell_type": "markdown",
   "metadata": {},
   "source": [
    "Produce syllabification"
   ]
  },
  {
   "cell_type": "code",
   "execution_count": 196,
   "metadata": {},
   "outputs": [
    {
     "name": "stderr",
     "output_type": "stream",
     "text": [
      "100%|██████████| 10/10 [01:54<00:00, 11.48s/it]\n"
     ]
    }
   ],
   "source": [
    "syll_output = syllabify_tercets(transformer, ariosto_tercets[:10])"
   ]
  },
  {
   "cell_type": "markdown",
   "metadata": {},
   "source": [
    "Obtain alternative syllabification for the Orlando furioso (from Neural Poetry)"
   ]
  },
  {
   "cell_type": "code",
   "execution_count": 193,
   "metadata": {},
   "outputs": [],
   "source": [
    "ariosto_alt_syll = list(map(hyphenation, raw_text_ariosto))\n",
    "ariosto_alt_syll = list(map(lambda x: '|' + '|'.join(x), ariosto_alt_syll))"
   ]
  },
  {
   "cell_type": "code",
   "execution_count": 187,
   "metadata": {},
   "outputs": [
    {
     "data": {
      "text/plain": [
       "[\"|Le |don|ne,| i |ca|val|lier|, l'ar|me,| gli| a|mo|ri,\",\n",
       " \"|le |cor|te|sie,| l'au|da|ci| im|pre|se| io |can|to,\",\n",
       " '|che |fu|ro| al| tem|po |che |pas|sa|ro| i |Mo|ri',\n",
       " \"|d'A|fri|ca| il| ma|re,| e| in| Fran|cia |noc|quer| tan|to,\",\n",
       " \"|se|guen|do |l'i|re| e| i |gio|ve|nil| fu|ro|ri\",\n",
       " \"|d'A|gra|man|te |lor| re,| che |si |di|è |van|to\",\n",
       " '|di |ven|di|car| la |mor|te |di |Troi|a|no',\n",
       " '|so|pra |re |Car|lo| im|pe|ra|tor| ro|ma|no.',\n",
       " \"|Di|rò |d'Or|lan|do| in| un| me|de|smo |trat|to\",\n",
       " '|co|sa |non| det|ta| in| pro|sa |mai,| né| in| ri|ma:',\n",
       " '|che |per| a|mor| ven|ne| in| fu|ro|re| e |mat|to,',\n",
       " \"|d'uom| che |sì |sag|gio| e|ra |sti|ma|to |pri|ma;\",\n",
       " \"|se |da |co|lei |che |tal| qua|si |m'ha |fat|to,\",\n",
       " \"|che |'l po|co| in|ge|gno| ad| or| ad| or| mi |li|ma,\",\n",
       " '|me |ne |sa|rà |pe|rò |tan|to |con|ces|so,',\n",
       " '|che |mi |ba|sti| a |fi|nir| quan|to |ho |pro|mes|so.',\n",
       " '|Piac|cia|vi,| ge|ne|ro|sa| Er|cu|le|a |pro|le,',\n",
       " '|or|na|men|to| e |splen|dor| del| se|col| no|stro,',\n",
       " '|Ip|po|li|to,| ag|gra|dir| que|sto |che |vuo|le',\n",
       " \"|e |dar|vi |sol| pu|ò |l'u|mil| ser|vo |vo|stro.\",\n",
       " \"|Quel| ch'io |vi |deb|bo,| pos|so |di |pa|ro|le\",\n",
       " \"|pa|ga|re| in| par|te| e |d'o|pe|ra |d'in|chio|stro;\",\n",
       " '|né |che |po|co| io |vi |dia |da| im|pu|tar| so|no,',\n",
       " '|che |quan|to| io |pos|so |dar|, tut|to |vi |do|no.',\n",
       " '|Voi |sen|ti|re|te |fra| i |più |de|gni| e|roi,',\n",
       " \"|che |no|mi|nar| con| lau|de |m'ap|pa|rec|chio,\",\n",
       " '|ri|cor|dar| quel| Rug|gier|, che |fu |di |voi',\n",
       " \"|e |de'| vo|stri| a|vi| il|lu|stri| il| cep|po |vec|chio.\",\n",
       " \"|L'al|to |va|lo|re| e'| chia|ri |ge|sti |suoi\",\n",
       " '|vi |fa|rò| u|dir|, se |voi |mi |da|te| o|rec|chio,',\n",
       " '|e |vo|stri| al|ti |pen|sier| ce|di|no| un| po|co,',\n",
       " '|sì |che |tra |lor| miei |ver|si| ab|bia|no |lo|co.',\n",
       " '|Or|lan|do,| che |gran| tem|po| in|na|mo|ra|to',\n",
       " '|fu |de |la |bel|la| An|ge|li|ca,| e |per| lei',\n",
       " '|in| In|dia,| in| Me|dia,| in| Tar|ta|ria |la|scia|to',\n",
       " '|a|ve|a| in|fi|ni|ti| ed| im|mor|tal| tro|fei,',\n",
       " '|in| Po|nen|te |con| es|sa| e|ra |tor|na|to,',\n",
       " '|do|ve |sot|to| i |gran| mon|ti |Pi|re|nei',\n",
       " '|con| la |gen|te |di |Fran|cia| e |de |La|ma|gna',\n",
       " '|re |Car|lo| e|ra| at|ten|da|to| al|la |cam|pa|gna,',\n",
       " '|per| far| al| re |Mar|si|lio| e| al| re| A|gra|man|te',\n",
       " '|bat|ter|si| an|cor| del| fol|le| ar|dir| la |guan|cia,',\n",
       " \"|d'a|ver| con|dot|to,| l'un|, d'A|fri|ca |quan|te\",\n",
       " '|gen|ti| e|ra|no| at|te| a |por|tar| spa|da| e |lan|cia;',\n",
       " \"|l'al|tro,| d'a|ver| spin|ta |la |Spa|gna| i|nan|te\",\n",
       " '|a |de|stru|zion| del| bel| re|gno |di |Fran|cia.',\n",
       " '|E |co|sì| Or|lan|do| ar|ri|vò |qui|vi| a |pun|to:',\n",
       " \"|ma |to|sto |si |pen|tì |d'es|ser|vi |giun|to:\",\n",
       " '|che |vi |fu |tol|ta |la |sua |don|na |poi:',\n",
       " '|ec|co| il| giu|di|cio| u|man| co|me |spes|so| er|ra!',\n",
       " '|Quel|la |che |da|gli| e|spe|ri| ai |li|ti| e|oi',\n",
       " '|a|ve|a |di|fe|sa |con| sì |lun|ga |guer|ra,',\n",
       " '|or| tol|ta |gli| è |fra |tan|ti| a|mi|ci |suoi,',\n",
       " '|sen|za |spa|da| a|do|prar|, ne |la |sua |ter|ra.',\n",
       " \"|Il| sa|vio| im|pe|ra|tor|, ch'e|stin|guer| vol|se\",\n",
       " '|un| gra|ve| in|cen|dio,| fu |che |gli |la |tol|se.',\n",
       " '|Na|ta |po|chi |dì| i|nan|zi| e|ra| u|na |ga|ra',\n",
       " '|tra| il| con|te| Or|lan|do| e| il| suo |cu|gin| Ri|nal|do,',\n",
       " '|che| en|tram|bi| a|ve|an| per| la |bel|lez|za |ra|ra',\n",
       " \"|d'a|mo|ro|so |di|sio |l'a|ni|mo |cal|do.\",\n",
       " '|Car|lo,| che |non| a|ve|a |tal| li|te |ca|ra,',\n",
       " \"|che |gli |ren|de|a |l'ai|u|to |lor| men| sal|do,\",\n",
       " \"|que|sta |don|zel|la,| che |la |cau|sa |n'e|ra,\",\n",
       " '|tol|se,| e |di|è| in| ma|no| al| du|ca |di |Ba|ve|ra;',\n",
       " \"|in| pre|mio |pro|met|ten|do|la| a |quel| d'es|si,\",\n",
       " \"|ch'in| quel| con|flit|to,| in| quel|la |gran| gior|na|ta,\",\n",
       " \"|deg|l'in|fi|de|li |più |co|pia| uc|ci|des|si,\",\n",
       " '|e |di |sua |man| pre|stas|se| o|pra |più |gra|ta.',\n",
       " '|Con|tra|ri| ai |vo|ti |poi |fu|ro| i |suc|ces|si;',\n",
       " \"|ch'in| fu|ga| an|dò |la |gen|te |bat|tez|za|ta,\",\n",
       " \"|e |con| mol|ti| al|tri |fu |'l du|ca |pri|gio|ne,\",\n",
       " '|e |re|stò| ab|ban|do|na|to| il| pa|di|glio|ne.',\n",
       " '|Do|ve,| poi |che |ri|ma|se |la |don|zel|la',\n",
       " \"|ch'es|ser| do|ve|a |del| vin|ci|tor| mer|ce|de,\",\n",
       " '|i|nan|zi| al| ca|so| e|ra |sa|li|ta| in| sel|la,',\n",
       " '|e |quan|do |bi|so|gnò |le |spal|le |die|de,',\n",
       " '|pre|sa|ga |che |quel| gior|no| es|ser| ru|bel|la',\n",
       " '|do|ve|a |For|tu|na| al|la |cri|stia|na |fe|de:',\n",
       " '|en|trò| in| un| bo|sco,| e |ne |la |stret|ta |via',\n",
       " \"|rin|con|trò| un| ca|val|lier| ch'a |pi|è |ve|nì|a.\",\n",
       " \"|In|dos|so |la |co|raz|za,| l'el|mo| in| te|sta,\",\n",
       " '|la |spa|da| al| fian|co,| e| in| brac|cio| a|ve|a |lo |scu|do;',\n",
       " '|e |più |leg|gier| cor|re|a |per| la |fo|re|sta,',\n",
       " \"|ch'al| pal|lio |ros|so| il| vil|lan| mez|zo| i|gnu|do.\",\n",
       " '|Ti|mi|da |pa|sto|rel|la |mai |sì |pre|sta',\n",
       " '|non| vol|se |pie|de| i|nan|zi| a |ser|pe |cru|do,',\n",
       " '|co|me| An|ge|li|ca |to|sto| il| fre|no |tor|se,',\n",
       " \"|che |del| guer|rier|, ch'a |pi|è |ve|nì|a,| s'ac|cor|se.\",\n",
       " '|E|ra |co|stui |quel| pa|la|din| ga|gliar|do,',\n",
       " \"|fi|gliuol| d'A|mon|, si|gnor| di |Mon|tal|ba|no,\",\n",
       " '|a |cui |pur| dian|zi| il| suo |de|strier| Bai|ar|do',\n",
       " '|per| stra|no |ca|so| u|sci|to| e|ra |di |ma|no.',\n",
       " '|Co|me| al|la |don|na| e|gli |driz|zò |lo |sguar|do,',\n",
       " '|ri|co|nob|be,| quan|tun|que |di |lon|ta|no,',\n",
       " \"|l'an|ge|li|co |sem|bian|te| e |quel| bel| vol|to\",\n",
       " \"|ch'al|l'a|mo|ro|se |re|ti| il| te|ne|a| in|vol|to.\",\n",
       " '|La |don|na| il| pa|la|fre|no| a |die|tro |vol|ta,',\n",
       " '|e |per| la |sel|va| a |tut|ta |bri|glia| il| cac|cia;',\n",
       " '|né |per| la |ra|ra |più |che |per| la |fol|ta,',\n",
       " '|la |più |si|cu|ra| e |mi|glior| via |pro|cac|cia:',\n",
       " '|ma |pal|li|da,| tre|man|do,| e |di |sé |tol|ta,',\n",
       " '|la|scia |cu|ra| al| de|strier| che |la |via |fac|cia.',\n",
       " \"|Di |sù |di |giù,| ne |l'al|ta |sel|va |fie|ra\",\n",
       " '|tan|to |gi|rò,| che |ven|ne| a| u|na |ri|vie|ra.',\n",
       " '|Su |la |ri|vie|ra |Fer|ra|ù |tro|vos|se',\n",
       " '|di |su|dor| pie|no| e |tut|to |pol|ve|ro|so.',\n",
       " '|Da |la |bat|ta|glia |dian|zi |lo |ri|mos|se',\n",
       " '|un| gran| di|sio |di |be|re| e |di |ri|po|so;',\n",
       " '|e |poi,| mal| gra|do |suo,| qui|vi |fer|mos|se,',\n",
       " \"|per|ché,| de |l'ac|qua| in|gor|do| e |fret|to|lo|so,\",\n",
       " \"|l'el|mo |nel| fiu|me |si |la|sci|ò |ca|de|re,\",\n",
       " \"|né |l'a|ve|a |po|tu|to| an|co |ria|ve|re.\",\n",
       " '|Quan|to |po|te|a |più |for|te,| ne |ve|ni|va',\n",
       " '|gri|dan|do |la |don|zel|la| i|spa|ven|ta|ta.',\n",
       " '|A |quel|la |vo|ce |sal|ta| in| su |la |ri|va',\n",
       " '|il| Sa|ra|ci|no,| e |nel| vi|so |la |gua|ta;',\n",
       " \"|e |la |co|no|sce |su|bi|to |ch'ar|ri|va,\",\n",
       " '|ben| che |di |ti|mor| pal|li|da| e |tur|ba|ta,',\n",
       " \"|e |sien| più |dì |che |non| n'u|dì |no|vel|la,\",\n",
       " \"|che |sen|za |dub|bio| el|l'è| An|ge|li|ca |bel|la.\",\n",
       " \"|E |per|ché| e|ra |cor|te|se,| e |n'a|ve|a |for|se\",\n",
       " \"|non| men| de'| dui |cu|gi|ni| il| pet|to |cal|do,\",\n",
       " \"|l'ai|u|to |che |po|te|a |tut|to |le |por|se,\",\n",
       " \"|pur| co|me| a|ves|se |l'el|mo,| ar|di|to| e |bal|do:\",\n",
       " '|tras|se |la |spa|da,| e |mi|nac|cian|do |cor|se',\n",
       " '|do|ve |po|co |di |lui |te|me|a |Ri|nal|do.',\n",
       " \"|Più |vol|te |s'e|ran| gi|à |non| pur| ve|du|ti,\",\n",
       " \"|m'al| pa|ra|gon| de |l'ar|me |co|no|sciu|ti.\",\n",
       " '|Co|min|ciar| qui|vi| u|na |cru|del| bat|ta|glia,',\n",
       " '|co|me| a |pi|è |si |tro|var|, coi |bran|di| i|gnu|di:',\n",
       " '|non| che |le |pia|stre| e |la |mi|nu|ta |ma|glia,',\n",
       " \"|ma| ai |col|pi |lor| non| reg|ge|rian| gl'in|cu|di.\",\n",
       " \"|Or|, men|tre |l'un| con| l'al|tro |si |tra|va|glia,\",\n",
       " \"|bi|so|gna| al| pa|la|fren| che |'l pas|so |stu|di;\",\n",
       " '|che |quan|to |pu|ò |me|nar| de |le |cal|ca|gna,',\n",
       " '|co|lei |lo |cac|cia| al| bo|sco| e| al|la |cam|pa|gna.',\n",
       " \"|Poi |che |s'af|fa|ti|car| gran| pez|zo| in|va|no\",\n",
       " \"|i |dui |guer|rier| per| por| l'un| l'al|tro |sot|to,\",\n",
       " \"|quan|do |non| me|no| e|ra |con| l'ar|me| in| ma|no\",\n",
       " '|que|sto |di |quel|, né |quel| di |que|sto |dot|to;',\n",
       " '|fu |pri|mie|ro| il| si|gnor| di |Mon|tal|ba|no,',\n",
       " \"|ch'al| ca|val|lier| di |Spa|gna |fe|ce |mot|to,\",\n",
       " \"|sì |co|me |quel| ch'ha |nel| cuor| tan|to |fuo|co,\",\n",
       " \"|che |tut|to |n'ar|de| e |non| ri|tro|va |lo|co.\",\n",
       " '|Dis|se| al| pa|gan|: — Me |sol| cre|du|to| a|vrai,',\n",
       " '|e |pur| a|vrai |te |me|co| an|co|ra| of|fe|so:',\n",
       " '|se |que|sto| av|vien| per|ché| i |ful|gen|ti |rai',\n",
       " \"|del| nuo|vo |sol| t'ab|bi|no| il| pet|to| ac|ce|so,\",\n",
       " '|di |far|mi |qui |tar|dar| che |gua|da|gno |hai?',\n",
       " \"|che |quan|do| an|cor| tu |m'ab|bi |mor|to| o |pre|so,\",\n",
       " '|non| pe|rò |tua |la |bel|la |don|na |fia;',\n",
       " '|che,| men|tre |noi |tar|diam|, se |ne |va |via.',\n",
       " '|Quan|to |fia |me|glio,| a|man|do|la |tu| an|co|ra,',\n",
       " '|che |tu |le |ven|ga| a |tra|ver|sar| la |stra|da,',\n",
       " '|a |ri|te|ner|la| e |far|le |far| di|mo|ra,',\n",
       " '|pri|ma |che |più |lon|ta|na |se |ne |va|da!',\n",
       " \"|Co|me |l'a|vre|mo| in| po|te|sta|te,| al|lo|ra\",\n",
       " \"|di |chi| es|ser| de'| si |pro|vi |con| la |spa|da:\",\n",
       " '|non| so| al|tri|men|ti,| do|po| un| lun|go| af|fan|no,',\n",
       " '|che |pos|sa |riu|scir|ci| al|tro |che |dan|no.\\xa0—',\n",
       " '|Al| pa|gan| la |pro|po|sta |non| di|spiac|que:',\n",
       " '|co|sì |fu |dif|fe|ri|ta |la |ten|zo|ne;',\n",
       " '|e |tal| tre|gua |tra |lor| su|bi|to |nac|que,',\n",
       " \"|sì |l'o|dio| e |l'i|ra |va| in| o|bli|vio|ne,\",\n",
       " \"|che |'l pa|ga|no| al| par|tir| da |le |fre|sche| ac|que\",\n",
       " \"|non| la|sci|ò| a |pie|di| il| buon| fi|gliuol| d'A|mo|ne:\",\n",
       " '|con| pre|ghi| in|vi|ta,| ed| al| fin| to|glie| in| grop|pa,',\n",
       " \"|e |per| l'or|me |d'An|ge|li|ca |ga|lop|pa.\",\n",
       " \"|Oh| gran| bon|tà |de'| ca|val|lie|ri| an|ti|qui!\",\n",
       " '|E|ran| ri|va|li,| e|ran| di |fé |di|ver|si,',\n",
       " '|e |si |sen|tian| de|gli| a|spri |col|pi| i|ni|qui',\n",
       " '|per| tut|ta |la |per|so|na| an|co |do|ler|si;',\n",
       " '|e |pur| per| sel|ve| o|scu|re| e |cal|li| o|bli|qui',\n",
       " '|in|sie|me |van| sen|za |so|spet|to| a|ver|si.',\n",
       " '|Da |quat|tro |spro|ni| il| de|strier| pun|to| ar|ri|va',\n",
       " '|o|ve| u|na |stra|da| in| due |si |di|par|ti|va.',\n",
       " \"|E |co|me |quei |che |non| sa|pe|an| se |l'u|na\",\n",
       " \"|o |l'al|tra |via |fa|ces|se |la |don|zel|la\",\n",
       " '|(pe|rò |che |sen|za |dif|fe|ren|za| al|cu|na',\n",
       " \"|ap|pa|ria| in| a|men|due |l'or|ma |no|vel|la),\",\n",
       " '|si |mes|se|ro| ad| ar|bi|trio |di |for|tu|na,',\n",
       " '|Ri|nal|do| a |que|sta,| il| Sa|ra|ci|no| a |quel|la.',\n",
       " \"|Pel| bo|sco |Fer|ra|ù |mol|to |s'av|vol|se,\",\n",
       " '|e |ri|tro|vos|si| al| fi|ne| on|de |si |tol|se.',\n",
       " '|Pur| si |ri|tro|va| an|cor| su |la |ri|ve|ra,',\n",
       " \"|là |do|ve |l'el|mo |gli |ca|scò |ne |l'on|de.\",\n",
       " '|Poi |che |la |don|na |ri|tro|var| non| spe|ra,',\n",
       " \"|per| a|ver| l'el|mo |che |'l fiu|me |gli| a|scon|de,\",\n",
       " '|in| quel|la |par|te| on|de |ca|du|to |gli| e|ra',\n",
       " \"|di|scen|de |ne |l'e|stre|me| u|mi|de |spon|de:\",\n",
       " '|ma |quel|lo| e|ra |sì |fit|to |ne |la |sab|bia,',\n",
       " \"|che |mol|to| a|vrà |da |far| pri|ma |che |l'ab|bia.\",\n",
       " \"|Con| un| gran| ra|mo |d'al|be|ro |ri|mon|do,\",\n",
       " \"|di |ch'a|ve|a |fat|to| u|na |per|ti|ca |lun|ga,\",\n",
       " '|ten|ta| il| fiu|me| e |ri|cer|ca |si|no| al| fon|do,',\n",
       " '|né |lo|co |la|scia| o|ve |non| bat|ta| e |pun|ga.',\n",
       " '|Men|tre |con| la |mag|gior| stiz|za |del| mon|do',\n",
       " \"|tan|to |l'in|du|gio |suo |qui|vi |pro|lun|ga,\",\n",
       " '|ve|de |di |mez|zo| il| fiu|me| un| ca|val|lie|ro',\n",
       " \"|in|si|no| al| pet|to| u|scir|, d'a|spet|to |fie|ro.\",\n",
       " '|E|ra,| fuor| che |la |te|sta,| tut|to| ar|ma|to,',\n",
       " '|ed| a|ve|a| un| el|mo |ne |la |de|stra |ma|no:',\n",
       " '|a|ve|a| il| me|de|si|mo| el|mo |che |cer|ca|to',\n",
       " '|da |Fer|ra|ù |fu |lun|ga|men|te| in|va|no.',\n",
       " '|A |Fer|ra|ù |par|lò |co|me| a|di|ra|to,',\n",
       " '|e |dis|se:| — Ah| man|ca|tor| di |fé,| ma|ra|no!',\n",
       " \"|per|ché |di |la|sciar| l'el|mo| an|che |t'ag|gre|vi,\",\n",
       " '|che |ren|der| gi|à |gran| tem|po |mi |do|ve|vi?',\n",
       " '|Ri|cor|da|ti,| pa|gan|, quan|do| uc|ci|de|sti',\n",
       " \"|d'An|ge|li|ca| il| fra|tel| (che |son| quel|l'io),\",\n",
       " \"|die|tro| al|l'al|tr'ar|me |tu |mi |pro|met|te|sti\",\n",
       " \"|git|tar| fra |po|chi |dì |l'el|mo |nel| rio.\",\n",
       " '|Or| se |For|tu|na |(quel| che |non| vo|le|sti',\n",
       " '|far| tu)| po|ne| ad| ef|fet|to| il| vo|ler| mio,',\n",
       " '|non| ti |tur|ba|re;| e |se |tur|bar| ti |dé|i,',\n",
       " '|tur|ba|ti |che |di |fé |man|ca|to |sei.',\n",
       " \"|Ma |se |de|sir| pur| hai |d'un| el|mo |fi|no,\",\n",
       " '|tro|va|ne| un| al|tro,| ed| ab|bil| con| più| o|no|re;',\n",
       " '|un| tal| ne |por|ta| Or|lan|do |pa|la|di|no,',\n",
       " '|un| tal| Ri|nal|do,| e |for|se| an|co |mi|glio|re:',\n",
       " \"|l'un| fu |d'Al|mon|te,| e |l'al|tro |di |Mam|bri|no:\",\n",
       " '|ac|qui|sta| un| di |quei |dui |col| tuo |va|lo|re;',\n",
       " \"|e |que|sto,| ch'hai |gi|à |di |la|sciar|mi |det|to,\",\n",
       " '|fa|rai |be|ne| a |la|sciar|mi |con| ef|fet|to.\\xa0—',\n",
       " \"|Al|l'ap|pa|rir| che |fe|ce| al|l'im|prov|vi|so\",\n",
       " \"|de |l'ac|qua |l'om|bra,| o|gni |pe|lo| ar|ric|cios|si,\",\n",
       " '|e |sco|lo|ros|si| al| Sa|ra|ci|no| il| vi|so;',\n",
       " \"|la |vo|ce,| ch'e|ra |per| u|scir|, fer|mos|si.\",\n",
       " \"|U|den|do |poi |da |l'Ar|ga|lia,| ch'uc|ci|so\",\n",
       " \"|qui|vi| a|ve|a |gi|à |(che |l'Ar|ga|lia |no|mos|si)\",\n",
       " '|la |rot|ta |fe|de |co|sì| im|pro|ve|rar|se,',\n",
       " \"|di |scor|no| e |d'i|ra |den|tro| e |di |fuor| ar|se.\",\n",
       " '|Né |tem|po| a|ven|do| a |pen|sar| al|tra |scu|sa,',\n",
       " \"|e |co|no|scen|do |ben| che |'l ver| gli |dis|se,\",\n",
       " '|re|stò |sen|za |ri|spo|sta| a |boc|ca |chiu|sa;',\n",
       " '|ma |la |ver|go|gna| il| cor| sì |gli |tra|fis|se,',\n",
       " '|che |giu|rò |per| la |vi|ta |di |Lan|fu|sa',\n",
       " \"|non| vo|ler| mai |ch'al|tro| el|mo |lo |co|pris|se,\",\n",
       " '|se |non| quel| buo|no |che |gi|à| in| A|spra|mon|te',\n",
       " '|tras|se |dal| ca|po| Or|lan|do| al| fie|ro| Al|mon|te.',\n",
       " '|E |ser|vò |me|glio |que|sto |giu|ra|men|to,',\n",
       " \"|che |non| a|ve|a |quel|l'al|tro |fat|to |pri|ma.\",\n",
       " '|Quin|di |si |par|te |tan|to |mal|con|ten|to,',\n",
       " '|che |mol|ti |gior|ni |poi |si |ro|de| e |li|ma.',\n",
       " '|Sol| di |cer|ca|re| è| il| pa|la|di|no| in|ten|to',\n",
       " '|di |qua |di |là,| do|ve |tro|var|lo |sti|ma.',\n",
       " '|Al|tra |ven|tu|ra| al| buon| Ri|nal|do| ac|ca|de,',\n",
       " '|che |da |co|stui |te|ne|a |di|ver|se |stra|de.',\n",
       " '|Non| mol|to |va |Ri|nal|do,| che |si |ve|de',\n",
       " '|sal|ta|re| i|nan|zi| il| suo |de|strier| fe|ro|ce:',\n",
       " '|— Fer|ma,| Bai|ar|do |mio,| deh|, fer|ma| il| pie|de!',\n",
       " \"|che |l'es|ser| sen|za |te |trop|po |mi |nuo|ce.\\xa0—\",\n",
       " '|Per| que|sto| il| de|strier| sor|do,| a |lui |non| rie|de',\n",
       " '|an|zi |più |se |ne |va |sem|pre |ve|lo|ce.',\n",
       " \"|Se|gue |Ri|nal|do,| e |d'i|ra |si |di|strug|ge:\",\n",
       " '|ma |se|gui|tia|mo| An|ge|li|ca |che |fug|ge.',\n",
       " '|Fug|ge |tra |sel|ve |spa|ven|to|se| e |scu|re,',\n",
       " '|per| lo|chi| i|na|bi|ta|ti,| er|mi| e |sel|vag|gi.',\n",
       " '|Il| mo|ver| de |le |fron|di| e |di |ver|zu|re,',\n",
       " \"|che |di |cer|ri |sen|tia,| d'ol|mi| e |di |fag|gi,\",\n",
       " '|fat|to |le| a|ve|a |con| su|bi|te |pau|re',\n",
       " '|tro|var| di |qua |di |là |stra|ni |viag|gi;',\n",
       " \"|ch'ad| o|gni| om|bra |ve|du|ta| o| in| mon|te| o| in| val|le,\",\n",
       " '|te|me|a |Ri|nal|do| a|ver| sem|pre| al|le |spal|le.',\n",
       " '|Qual| par|go|let|ta| o |dam|ma| o |ca|priuo|la,',\n",
       " '|che |tra |le |fron|de |del| na|tio |bo|schet|to',\n",
       " '|al|la |ma|dre |ve|du|ta| ab|bia |la |go|la',\n",
       " \"|strin|ger| dal| par|do,| o| a|prir|le |'l fian|co| o |'l pet|to,\",\n",
       " \"|di |sel|va| in| sel|va |dal| cru|del| s'in|vo|la,\",\n",
       " '|e |di |pau|ra |tre|ma| e |di |so|spet|to:',\n",
       " '|ad| o|gni |ster|po |che |pas|san|do |toc|ca,',\n",
       " \"|es|ser| si |cre|de| al|l'em|pia |fe|ra| in| boc|ca.\",\n",
       " \"|Quel| dì| e |la |not|te| a |mez|zo |l'al|tro |gior|no\",\n",
       " \"|s'an|dò| ag|gi|ran|do,| e |non| sa|pe|va |do|ve.\",\n",
       " '|Tro|vos|si| al| fin| in| un| bo|schet|to| a|dor|no,',\n",
       " '|che |lie|ve|men|te |la |fre|sca| au|ra |muo|ve.',\n",
       " '|Duo |chia|ri |ri|vi,| mor|mo|ran|do| in|tor|no,',\n",
       " \"|sem|pre |l'er|be |vi |fan| te|ne|re| e |nuo|ve;\",\n",
       " '|e |ren|de|a| ad| a|scol|tar| dol|ce |con|cen|to,',\n",
       " '|rot|to |tra |pic|ciol| sas|si,| il| cor|rer| len|to.',\n",
       " \"|Qui|vi |pa|ren|do| a |lei |d'es|ser| si|cu|ra\",\n",
       " '|e |lon|ta|na| a |Ri|nal|do |mil|le |mi|glia,',\n",
       " \"|da |la |via |stan|ca| e |da |l'e|sti|va| ar|su|ra,\",\n",
       " '|di |ri|po|sa|re| al|quan|to |si |con|si|glia:',\n",
       " \"|tra'| fio|ri |smon|ta,| e |la|scia| al|la |pa|stu|ra\",\n",
       " '|an|da|re| il| pa|la|fren| sen|za |la |bri|glia;',\n",
       " '|e |quel| va| er|ran|do| in|tor|no| al|le |chia|re| on|de,',\n",
       " '|che |di |fre|sca| er|ba| a|ve|an| pie|ne |le |spon|de.',\n",
       " '|Ec|co |non| lun|gi| un| bel| ce|spu|glio |ve|de',\n",
       " '|di |prun| fio|ri|ti| e |di |ver|mi|glie |ro|se,',\n",
       " '|che |de |le |li|qui|de| on|de| al| spec|chio |sie|de,',\n",
       " \"|chiu|so |dal| sol| fra |l'al|te |quer|ce| om|bro|se;\",\n",
       " '|co|sì |vo|to |nel| mez|zo,| che |con|ce|de',\n",
       " \"|fre|sca |stan|za |fra |l'om|bre |più |na|sco|se:\",\n",
       " '|e |la |fo|glia |coi |ra|mi| in| mo|do| è |mi|sta,',\n",
       " \"|che |'l sol| non| v'en|tra,| non| che |mi|nor| vi|sta.\",\n",
       " '|Den|tro |let|to |vi |fan| te|ne|re| er|bet|te,',\n",
       " \"|ch'in|vi|ta|no| a |po|sar| chi |s'ap|pre|sen|ta.\",\n",
       " '|La |bel|la |don|na| in| mez|zo| a |quel| si |met|te,',\n",
       " \"|i|vi |si |cor|ca| ed| i|vi |s'ad|dor|men|ta.\",\n",
       " '|Ma |non| per| lun|go |spa|zio |co|sì |stet|te,',\n",
       " '|che| un| cal|pe|stio |le |par| che |ve|nir| sen|ta:',\n",
       " '|che|ta |si |le|va| e| ap|pres|so| al|la |ri|vie|ra',\n",
       " \"|ve|de |ch'ar|ma|to| un| ca|val|lier| giun|t'e|ra.\",\n",
       " '|Se |gli| è| a|mi|co| o |ne|mi|co |non| com|pren|de:',\n",
       " '|te|ma| e |spe|ran|za| il| dub|bio |cor| le |scuo|te;',\n",
       " '|e |di |quel|la| a|ven|tu|ra| il| fi|ne| at|ten|de,',\n",
       " \"|né |pur| d'un| sol| so|spir| l'a|ria |per|cuo|te.\",\n",
       " '|Il| ca|val|lie|ro| in| ri|va| al| fiu|me |scen|de',\n",
       " \"|so|pra |l'un| brac|cio| a |ri|po|sar| le |go|te;\",\n",
       " '|e| in| un| suo |gran| pen|sier| tan|to |pe|nè|tra,',\n",
       " '|che |par| can|gia|to| in| in|sen|si|bil| pie|tra.',\n",
       " \"|Pen|so|so |più |d'un|'o|ra| a |ca|po |bas|so\",\n",
       " '|stet|te,| Si|gno|re,| il| ca|val|lier| do|len|te;',\n",
       " '|poi |co|min|ci|ò |con| suo|no| af|flit|to| e |las|so',\n",
       " '|a |la|men|tar|si |sì |so|a|ve|men|te,',\n",
       " \"|ch'a|vreb|be |di |pie|tà |spez|za|to| un| sas|so,\",\n",
       " '|u|na |ti|gre |cru|del| fat|ta |cle|men|te.',\n",
       " \"|So|spi|ran|te |pian|ge|a,| tal| ch'un| ru|scel|lo\",\n",
       " \"|pa|re|an| le |guan|ce,| e |'l pet|to| un| Mon|gi|bel|lo.\",\n",
       " \"|— Pen|sier| (di|ce|a)| che |'l cor| m'ag|ghiac|ci| ed| ar|di,\",\n",
       " '|e |cau|si| il| duol| che |sem|pre| il| ro|de| e |li|ma,',\n",
       " \"|che |deb|bo |far|, poi |ch'io |son| giun|to |tar|di,\",\n",
       " \"|e |ch'al|tri| a |cor|re| il| frut|to| è| an|da|to |pri|ma?\",\n",
       " \"|a |pe|na| a|vu|to| io |n'ho |pa|ro|le| e |sguar|di,\",\n",
       " \"|ed| al|tri |n'ha |tut|ta |la |spo|glia| o|pi|ma.\",\n",
       " '|Se |non| ne |toc|ca| a |me |frut|to |né |fio|re,',\n",
       " \"|per|ché| af|flig|ger| per| lei |mi |vuo'| più| il| co|re?\",\n",
       " '|La |ver|gi|nel|la| è |si|mi|le| al|la |ro|sa,',\n",
       " \"|ch'in| bel| giar|din| su |la |na|ti|va |spi|na\",\n",
       " '|men|tre |so|la| e |si|cu|ra |si |ri|po|sa,',\n",
       " '|né |greg|ge |né |pa|stor| se |le| av|vi|ci|na;',\n",
       " \"|l'au|ra |so|a|ve| e |l'al|ba |ru|gia|do|sa,\",\n",
       " \"|l'ac|qua,| la |ter|ra| al| suo |fa|vor| s'in|chi|na:\",\n",
       " '|gio|ve|ni |va|ghi| e |don|ne| i|na|mo|ra|te',\n",
       " '|a|ma|no| a|ver|ne| e |se|ni| e |tem|pie| or|na|te.',\n",
       " '|Ma |non| sì |to|sto |dal| ma|ter|no |ste|lo',\n",
       " '|ri|mos|sa |vie|ne| e |dal| suo |cep|po |ver|de,',\n",
       " '|che |quan|to| a|ve|a |da|gli| uo|mi|ni| e |dal| cie|lo',\n",
       " '|fa|vor|, gra|zia| e |bel|lez|za,| tut|to |per|de.',\n",
       " \"|La |ver|gi|ne |che |'l fior|, di |che |più |ze|lo\",\n",
       " \"|che |de'| be|gli| oc|chi| e |de |la |vi|ta| a|ver| de',\",\n",
       " \"|la|scia| al|trui |cor|re,| il| pre|gio |ch'a|ve|a| i|nan|ti\",\n",
       " '|per|de |nel| cor| di |tut|ti |gli| al|tri| a|man|ti.',\n",
       " '|Sia |vi|le| a|gli| al|tri,| e |da |quel| so|lo| a|ma|ta',\n",
       " '|a |cui |di |sé |fe|ce |sì |lar|ga |co|pia.',\n",
       " '|Ah|, For|tu|na |cru|del|, For|tu|na| in|gra|ta!',\n",
       " \"|trion|fan| gli| al|tri,| e |ne |mo|ro| io |d'i|no|pia.\",\n",
       " '|Dun|que| es|ser| pu|ò |che |non| mi |sia |più |gra|ta?',\n",
       " '|dun|que| io |pos|so |la|sciar| mia |vi|ta |pro|pia?',\n",
       " '|Ah| più |to|sto| og|gi |man|chi|no| i |dì |miei,',\n",
       " \"|ch'io |vi|va |più,| s'a|mar| non| deb|bo |lei!\\xa0—\",\n",
       " '|Se |mi |do|man|da| al|cun| chi |co|stui |sia,',\n",
       " '|che |ver|sa |so|pra| il| rio |la|cri|me |tan|te,',\n",
       " \"|io |di|rò |ch'e|gli| è| il| re |di |Cir|cas|sia,\",\n",
       " \"|quel| d'a|mor| tra|va|glia|to |Sa|cri|pan|te;\",\n",
       " '|io |di|rò| an|cor|, che |di |sua |pe|na |ria',\n",
       " '|sia |pri|ma| e |so|la |cau|sa| es|se|re| a|man|te,',\n",
       " '|è |pur| un| de|gli| a|man|ti |di |co|stei:',\n",
       " '|e |ben| ri|co|no|sciu|to |fu |da |lei.',\n",
       " '|Ap|pres|so| o|ve| il| sol| ca|de,| per| suo| a|mo|re',\n",
       " \"|ve|nu|to| e|ra |dal| ca|po |d'O|rien|te;\",\n",
       " '|che |sep|pe| in| In|dia |con| suo |gran| do|lo|re,',\n",
       " '|co|me| el|la| Or|lan|do |se|qui|tò| in| Po|nen|te:',\n",
       " \"|poi |sep|pe| in| Fran|cia |che |l'im|pe|ra|to|re\",\n",
       " \"|se|que|stra|ta |l'a|ve|a |da |l'al|tra |gen|te,\",\n",
       " \"|per| dar|la| al|l'un| de'| duo |che |con|tra| il| Mo|ro\",\n",
       " \"|più |quel| gior|no| ai|u|tas|se| i |Gi|gli |d'o|ro.\",\n",
       " '|Sta|to| e|ra| in| cam|po,| e| in|te|so| a|ve|a |di |quel|la',\n",
       " '|rot|ta |cru|del| che |dian|zi| eb|be |re |Car|lo:',\n",
       " \"|cer|cò |ve|sti|gio |d'An|ge|li|ca |bel|la,\",\n",
       " '|né |po|tu|to| a|ve|a| an|co|ra |ri|tro|var|lo.',\n",
       " '|Que|sta| è |dun|que |la |tri|sta| e |ria |no|vel|la',\n",
       " \"|che |d'a|mo|ro|sa |do|glia |fa |pe|nar|lo,\",\n",
       " '|af|flig|ger|, la|men|ta|re,| e |dir| pa|ro|le',\n",
       " '|che |di |pie|tà |po|trian| fer|ma|re| il| so|le.',\n",
       " \"|Men|tre |co|stui |co|sì |s'af|flig|ge| e |duo|le,\",\n",
       " '|e |fa |de|gli| oc|chi |suoi |te|pi|da |fon|te,',\n",
       " '|e |di|ce |que|ste| e |mol|te| al|tre |pa|ro|le,',\n",
       " '|che |non| mi |par| bi|so|gno| es|ser| rac|con|te;',\n",
       " \"|l'a|ven|tu|ro|sa |sua |for|tu|na |vuo|le\",\n",
       " \"|ch'al|le| o|rec|chie |d'An|ge|li|ca |sian| con|te:\",\n",
       " \"|e |co|sì |quel| ne |vie|ne| a| un|'o|ra,| a| un| pun|to,\",\n",
       " \"|ch'in| mil|le| an|ni| o |mai |più |non| è |rag|giun|to.\",\n",
       " '|Con| mol|ta| at|ten|zion| la |bel|la |don|na',\n",
       " '|al| pian|to,| al|le |pa|ro|le,| al| mo|do| at|ten|de',\n",
       " \"|di |co|lui |ch'in| a|mar|la |non| as|son|na;\",\n",
       " \"|né |que|sto| è| il| pri|mo |dì |ch'el|la |l'in|ten|de:\",\n",
       " \"|ma |du|ra| e |fred|da |più |d'u|na |co|lon|na,\",\n",
       " '|ad| a|ver|ne |pie|tà |non| pe|rò |scen|de,',\n",
       " \"|co|me |co|lei |c'ha |tut|to| il| mon|do| a |sde|gno,\",\n",
       " \"|e |non| le |par| ch'al|cun| sia |di |lei |de|gno.\",\n",
       " '|Pur| tra |quei |bo|schi| il| ri|tro|var|si |so|la',\n",
       " '|le |fa |pen|sar| di |tor| co|stui |per| gui|da;',\n",
       " \"|che |chi |ne |l'ac|qua |sta |fin| al|la |go|la\",\n",
       " '|ben| è| o|sti|na|to |se |mer|cé |non| gri|da.',\n",
       " \"|Se |que|sta| oc|ca|sio|ne| or| se |l'in|vo|la,\",\n",
       " '|non| tro|ve|rà |mai |più |scor|ta |sì |fi|da;',\n",
       " \"|ch'a |lun|ga |pro|va |co|no|sciu|to| i|nan|te\",\n",
       " \"|s'a|ve|a |quel| re |fe|del| so|pra| o|gni| a|man|te.\",\n",
       " \"|Ma |non| pe|rò |di|se|gna |de |l'af|fan|no\",\n",
       " \"|che |lo |di|strug|ge| al|leg|gie|rir| chi |l'a|ma,\",\n",
       " \"|e |ri|sto|rar| d'o|gni |pas|sa|to |dan|no\",\n",
       " \"|con| quel| pia|cer| ch'o|gni| a|ma|tor| più |bra|ma:\",\n",
       " '|ma| al|cu|na |fin|zio|ne,| al|cu|no| in|gan|no',\n",
       " '|di |te|ner|lo| in| spe|ran|za| or|di|sce| e |tra|ma;',\n",
       " \"|tan|to |ch'a |quel| bi|so|gno |se |ne |ser|va,\",\n",
       " \"|poi |tor|ni| al|l'u|so |suo |du|ra| e |pro|ter|va.\",\n",
       " '|E |fuor| di |quel| ce|spu|glio| o|scu|ro| e |cie|co',\n",
       " '|fa |di |sé |bel|la| ed| im|prov|vi|sa |mo|stra,',\n",
       " \"|co|me |di |sel|va| o |fuor| d'om|bro|so |spe|co\",\n",
       " '|Dia|na| in| sce|na| o |Ci|te|re|a |si |mo|stra;',\n",
       " \"|e |di|ce| al|l'ap|pa|rir|: — Pa|ce |sia |te|co;\",\n",
       " '|te|co |di|fen|da |Dio |la |fa|ma |no|stra,',\n",
       " '|e |non| com|por|ti,| con|tra| o|gni |ra|gio|ne,',\n",
       " \"|ch'ab|bi |di |me |sì |fal|sa| o|pi|nio|ne.\\xa0—\",\n",
       " '|Non| mai |con| tan|to |gau|dio| o |stu|por| tan|to',\n",
       " '|le|vò |gli| oc|chi| al| fi|gliuo|lo| al|cu|na |ma|dre,',\n",
       " \"|ch'a|ve|a |per| mor|to |so|spi|ra|to| e |pian|to,\",\n",
       " '|poi |che |sen|za| es|so| u|dì |tor|nar| le |squa|dre;',\n",
       " '|con| quan|to |gau|dio| il| Sa|ra|cin|, con| quan|to',\n",
       " \"|stu|por| l'al|ta |pre|sen|za| e |le |leg|gia|dre\",\n",
       " '|ma|nie|re,| e| il| ve|ro| an|ge|li|co |sem|bian|te,',\n",
       " '|im|pro|vi|so| ap|pa|rir| si |vi|de| i|nan|te.',\n",
       " \"|Pie|no |di |dol|ce| e |d'a|mo|ro|so| af|fet|to,\",\n",
       " '|al|la |sua |don|na,| al|la |sua |di|va |cor|se,',\n",
       " '|che |con| le |brac|cia| al| col|lo| il| ten|ne |stret|to,',\n",
       " \"|quel| ch'al| Ca|tai |non| a|vria |fat|to |for|se.\",\n",
       " '|Al| pa|trio |re|gno,| al| suo |na|tio |ri|cet|to,',\n",
       " \"|se|co| a|ven|do |co|stui,| l'a|ni|mo |tor|se:\",\n",
       " \"|su|bi|to| in| lei |s'av|vi|va |la |spe|ran|za\",\n",
       " '|di |to|sto |ri|ve|der| sua |ric|ca |stan|za.',\n",
       " '|El|la |gli |ren|de |con|to |pie|na|men|te',\n",
       " '|dal| gior|no |che |man|da|to |fu |da |lei',\n",
       " '|a |do|man|dar| soc|cor|so| in| O|rien|te',\n",
       " \"|al| re |de'| Se|ri|ca|ni| e |Na|ba|tei;\",\n",
       " '|e |co|me| Or|lan|do |la |guar|dò |so|ven|te',\n",
       " '|da |mor|te,| da |di|snor|, da |ca|si |rei:',\n",
       " \"|e |che |'l fior| vir|gi|nal| co|sì| a|ve|a |sal|vo,\",\n",
       " '|co|me |se |lo |por|tò |del| ma|ter|no| al|vo.',\n",
       " '|For|se| e|ra |ver|, ma |non| pe|rò |cre|di|bi|le',\n",
       " '|a |chi |del| sen|so |suo |fos|se |si|gno|re;',\n",
       " '|ma |par|ve |fa|cil|men|te| a |lui |pos|si|bi|le,',\n",
       " \"|ch'e|ra |per|du|to| in| via |più |gra|ve| er|ro|re.\",\n",
       " \"|Quel| che |l'uom| ve|de,| A|mor| gli |fa| in|vi|si|bi|le,\",\n",
       " \"|e |l'in|vi|si|bil| fa |ve|de|re| A|mo|re.\",\n",
       " \"|Que|sto |cre|du|to |fu;| che |'l mi|ser| suo|le\",\n",
       " '|dar| fa|ci|le |cre|den|za| a |quel| che |vuo|le.',\n",
       " \"|— Se |mal| si |sep|pe| il| ca|val|lier| d'An|glan|te\",\n",
       " '|pi|gliar| per| sua |scioc|chez|za| il| tem|po |buo|no,',\n",
       " '|il| dan|no |se |ne| a|vrà;| che |da |qui| i|nan|te',\n",
       " '|nol| chia|me|rà |For|tu|na| a |sì |gran| do|no',\n",
       " '|(tra |sé |ta|ci|to |par|la |Sa|cri|pan|te):',\n",
       " '|ma| io |per| i|mi|tar|lo |gi|à |non| so|no,',\n",
       " \"|che |la|sci |tan|to |ben| che |m'è |con|ces|so,\",\n",
       " \"|e |ch'a |do|ler| poi |m'ab|bia |di |me |stes|so.\",\n",
       " '|Cor|rò |la |fre|sca| e |ma|tu|ti|na |ro|sa,',\n",
       " '|che,| tar|dan|do,| sta|gion| per|der| po|tria.',\n",
       " \"|So |ben| ch'a |don|na |non| si |pu|ò |far| co|sa\",\n",
       " '|che |più |so|a|ve| e |più |pia|ce|vol| sia,',\n",
       " '|an|cor| che |se |ne |mo|stri |di|sde|gno|sa,',\n",
       " '|e |ta|lor| me|sta| e |fle|bil| se |ne |stia:',\n",
       " '|non| sta|rò |per| re|pul|sa| o |fin|to |sde|gno,',\n",
       " \"|ch'io |non| a|dom|bri| e| in|car|ni| il| mio |di|se|gno.\\xa0—\",\n",
       " \"|Co|sì |di|ce| e|gli;| e |men|tre |s'ap|pa|rec|chia\",\n",
       " '|al| dol|ce| as|sal|to,| un| gran| ru|mor| che |suo|na',\n",
       " \"|dal| vi|cin| bo|sco |gl'in|truo|na |l'o|rec|chia,\",\n",
       " \"|sì |che |mal| gra|do |l'im|pre|sa| ab|ban|do|na:\",\n",
       " \"|e |si |pon| l'el|mo |(ch'a|ve|a| u|san|za |vec|chia\",\n",
       " '|di |por|tar| sem|pre| ar|ma|ta |la |per|so|na),',\n",
       " '|vie|ne| al| de|strie|ro| e |gli |ri|pon| la |bri|glia,',\n",
       " '|ri|mon|ta| in| sel|la| e |la |sua |lan|cia |pi|glia.',\n",
       " '|Ec|co |pel| bo|sco| un| ca|val|lier| ve|ni|re,',\n",
       " \"|il| cui |sem|bian|te| è |d'uom| ga|gliar|do| e |fie|ro:\",\n",
       " '|can|di|do |co|me |nie|ve| è| il| suo |ve|sti|re,',\n",
       " '|un| bian|co |pen|non|cel|lo |ha |per| ci|mie|ro.',\n",
       " '|Re |Sa|cri|pan|te,| che |non| pu|ò |pa|ti|re',\n",
       " \"|che |quel| con| l'im|por|tu|no |suo |sen|tie|ro\",\n",
       " \"|gli| ab|bia| in|ter|rot|to| il| gran| pia|cer| ch'a|ve|a,\",\n",
       " '|con| vi|sta| il| guar|da |di|sde|gno|sa| e |re|a.',\n",
       " '|Co|me| è |più| ap|pres|so,| lo |sfi|da| a |bat|ta|glia;',\n",
       " \"|che |cre|de |ben| far|gli |vo|tar| l'ar|cio|ne.\",\n",
       " '|Quel| che |di |lui |non| sti|mo |gi|à |che |va|glia',\n",
       " '|un| gra|no |me|no,| e |ne |fa |pa|ra|go|ne,',\n",
       " \"|l'or|go|glio|se |mi|nac|ce| a |mez|zo |ta|glia,\",\n",
       " '|spro|na| a| un| tem|po,| e |la |lan|cia| in| re|sta |po|ne.',\n",
       " '|Sa|cri|pan|te |ri|tor|na |con| tem|pe|sta,',\n",
       " '|e |cor|ron|si| a |fe|rir| te|sta |per| te|sta.',\n",
       " '|Non| si |van|no| i |le|o|ni| o| i |to|ri| in| sal|to',\n",
       " '|a |dar| di |pet|to,| ad| ac|coz|zar| sì |cru|di,',\n",
       " '|sì |co|me| i |duo |guer|rie|ri| al| fie|ro| as|sal|to,',\n",
       " '|che |pa|ri|men|te |si |pas|sar| li |scu|di.',\n",
       " \"|Fe'| lo |scon|tro |tre|mar| dal| bas|so| al|l'al|to\",\n",
       " \"|l'er|bo|se |val|li| in|si|no| ai |pog|gi| i|gnu|di;\",\n",
       " '|e |ben| gio|vò |che |fur| buo|ni| e |per|fet|ti',\n",
       " '|gli| o|sber|ghi |sì,| che |lor| sal|va|ro| i |pet|ti.',\n",
       " '|Gi|à |non| fe|ro| i |ca|val|li| un| cor|rer| tor|to,',\n",
       " '|an|zi |coz|za|ro| a |gui|sa |di |mon|to|ni:',\n",
       " '|quel| del| guer|rier| pa|gan| mo|rì |di |cor|to,',\n",
       " \"|ch'e|ra |vi|ven|do| in| nu|me|ro |de'| buo|ni:\",\n",
       " \"|quel|l'al|tro |cad|de| an|cor|, ma |fu |ri|sor|to\",\n",
       " \"|to|sto |ch'al| fian|co |si |sen|tì |gli |spro|ni.\",\n",
       " '|Quel| del| re |sa|ra|cin| re|stò |di|ste|so',\n",
       " '|a|dos|so| al| suo |si|gnor| con| tut|to| il| pe|so.',\n",
       " \"|L'in|co|gni|to |cam|pion| che |re|stò |rit|to,\",\n",
       " \"|e |vi|de |l'al|tro |col| ca|val|lo| in| ter|ra,\",\n",
       " '|sti|man|do| a|ve|re| as|sai |di |quel| con|flit|to,',\n",
       " '|non| si |cu|rò |di |ri|no|var| la |guer|ra;',\n",
       " '|ma |do|ve |per| la |sel|va| è| il| ca|min| drit|to,',\n",
       " '|cor|ren|do| a |tut|ta |bri|glia |si |dis|ser|ra;',\n",
       " '|e |pri|ma |che |di |bri|ga| e|sca| il| pa|ga|no,',\n",
       " '|un| mi|glio| o |po|co |me|no| è |gi|à |lon|ta|no.',\n",
       " '|Qual| i|stor|di|to| e |stu|pi|do| a|ra|to|re,',\n",
       " \"|poi |ch'è |pas|sa|to| il| ful|mi|ne,| si |le|va\",\n",
       " \"|di |là |do|ve |l'al|tis|si|mo |fra|go|re\",\n",
       " \"|ap|pres|so| ai |mor|ti |buoi |ste|so |l'a|ve|va;\",\n",
       " '|che |mi|ra |sen|za |fron|de| e |sen|za| o|no|re',\n",
       " '|il| pin| che |di |lon|tan| ve|der| so|le|va:',\n",
       " '|tal| si |le|vò| il| pa|ga|no| a |pi|è |ri|ma|so,',\n",
       " '|An|ge|li|ca |pre|sen|te| al| du|ro |ca|so.',\n",
       " \"|So|spi|ra| e |ge|me,| non| per|ché |l'an|noi\",\n",
       " \"|che |pie|de| o |brac|cio |s'ab|bi |rot|to| o |mos|so,\",\n",
       " \"|ma |per| ver|go|gna |so|la,| on|de| a'| dì |suoi\",\n",
       " '|né |pria |né |do|po| il| vi|so| eb|be |sì |ros|so:',\n",
       " \"|e |più,| ch'ol|tre| il| ca|der|, sua |don|na |poi\",\n",
       " \"|fu |che |gli |tol|se| il| gran| pe|so |d'a|dos|so.\",\n",
       " \"|Mu|to |re|sta|va,| mi |cred|'io,| se |quel|la\",\n",
       " '|non| gli |ren|de|a |la |vo|ce| e |la |fa|vel|la.',\n",
       " \"|— Deh|! (dis|s'el|la)| si|gnor|, non| vi |rin|cre|sca!\",\n",
       " '|che |del| ca|der| non| è |la |col|pa |vo|stra,',\n",
       " '|ma |del| ca|val|lo,| a |cui |ri|po|so| ed| e|sca',\n",
       " '|me|glio |si |con|ve|nia |che |nuo|va |gio|stra.',\n",
       " '|Né |per|ci|ò |quel| guer|rier| sua |glo|ria| ac|cre|sca',\n",
       " \"|che |d'es|ser| sta|to| il| per|di|tor| di|mo|stra:\",\n",
       " \"|co|sì,| per| quel| ch'io |me |ne |sap|pia,| sti|mo,\",\n",
       " '|quan|do| a |la|scia|re| il| cam|po| è |sta|to |pri|mo.\\xa0—',\n",
       " '|Men|tre |co|stei |con|for|ta| il| Sa|ra|ci|no,',\n",
       " '|ec|co |col| cor|no| e |con| la |ta|sca| al| fian|co,',\n",
       " '|ga|lop|pan|do |ve|nir| so|pra| un| ron|zi|no',\n",
       " '|un| mes|sag|ger| che |pa|re|a| af|flit|to| e |stan|co;',\n",
       " '|che |co|me| a |Sa|cri|pan|te |fu |vi|ci|no,',\n",
       " '|gli |do|man|dò |se |con| un| scu|do |bian|co',\n",
       " '|e |con| un| bian|co |pen|non|cel|lo| in| te|sta',\n",
       " '|vi|de| un| guer|rier| pas|sar| per| la |fo|re|sta.',\n",
       " '|Ri|spo|se |Sa|cri|pan|te:| — Co|me |ve|di,',\n",
       " \"|m'ha |qui| ab|bat|tu|to,| e |se |ne |par|te| or| o|ra;\",\n",
       " \"|e |per|ch'io |sap|pia |chi |m'ha |mes|so| a |pie|di,\",\n",
       " '|fa |che |per| no|me| io |lo |co|no|sca| an|co|ra.\\xa0—',\n",
       " '|Ed| e|gli| a |lui:| — Di |quel| che |tu |mi |chie|di',\n",
       " '|io |ti |sa|ti|sfa|rò |sen|za |di|mo|ra:',\n",
       " '|tu |dei |sa|per| che |ti |le|vò |di |sel|la',\n",
       " \"|l'al|to |va|lor| d'u|na |gen|til| don|zel|la.\",\n",
       " '|El|la| è |ga|gliar|da| ed| è |più |bel|la |mol|to;',\n",
       " \"|né| il| suo |fa|mo|so |no|me| an|co |t'a|scon|do:\",\n",
       " \"|fu |Bra|da|man|te |quel|la |che |t'ha |tol|to\",\n",
       " '|quan|to| o|nor| mai |tu |gua|da|gna|sti| al| mon|do.\\xa0—',\n",
       " \"|Poi |ch'eb|be |co|sì |det|to,| a |fre|no |sciol|to\",\n",
       " '|il| Sa|ra|cin| la|sci|ò |po|co |gio|con|do,',\n",
       " '|che |non| sa |che |si |di|ca| o |che |si |fac|cia,',\n",
       " '|tut|to| av|vam|pa|to |di |ver|go|gna| in| fac|cia.',\n",
       " '|Poi |che |gran| pez|zo| al| ca|so| in|ter|ve|nu|to',\n",
       " '|eb|be |pen|sa|to| in|va|no,| e |fi|nal|men|te',\n",
       " '|si |tro|vò |da| u|na |fe|mi|na| ab|bat|tu|to,',\n",
       " '|che |pen|san|do|vi |più,| più |do|lor| sen|te;',\n",
       " \"|mon|tò |l'al|tro |de|strier|, ta|ci|to| e |mu|to:\",\n",
       " '|e |sen|za |far| pa|ro|la,| che|ta|men|te',\n",
       " '|tol|se| An|ge|li|ca| in| grop|pa,| e |dif|fe|ril|la',\n",
       " '|a |più |lie|to| u|so,| a |stan|za |più |tran|quil|la.',\n",
       " '|Non| fu|ro| i|ti |due |mi|glia,| che |so|na|re',\n",
       " '|o|don| la |sel|va |che |li |cin|ge| in|tor|no,',\n",
       " '|con| tal| ru|mo|re| e |stre|pi|to,| che |pa|re',\n",
       " \"|che |trie|mi |la |fo|re|sta |d'og|n'in|tor|no;\",\n",
       " \"|e |po|co |do|po| un| gran| de|strier| n'ap|pa|re,\",\n",
       " \"|d'o|ro |guer|ni|to| e |ric|ca|men|te| a|dor|no,\",\n",
       " '|che |sal|ta |mac|chie| e |ri|vi,| ed| a |fra|cas|so',\n",
       " '|ar|bo|ri |me|na| e |ci|ò |che |vie|ta| il| pas|so.',\n",
       " \"|— Se |l'in|tri|ca|ti |ra|mi| e |l'a|er| fo|sco,\",\n",
       " '|(dis|se |la |don|na)| a|gli| oc|chi |non| con|ten|de,',\n",
       " \"|Bai|ar|do| è |quel| de|strier| ch'in| mez|zo| il| bo|sco\",\n",
       " '|con| tal| ru|mor| la |chiu|sa |via |si |fen|de.',\n",
       " \"|Que|sto| è |cer|to |Bai|ar|do,| io |'l ri|co|no|sco:\",\n",
       " '|deh|, co|me |ben| no|stro |bi|so|gno| in|ten|de!',\n",
       " \"|ch'un| sol| ron|zin| per| dui |sa|ria |mal| at|to,\",\n",
       " '|e |ne |vie|ne| e|gli| a |sa|ti|sfar|ci |rat|to.\\xa0—',\n",
       " \"|Smon|ta| il| Cir|cas|so| ed| al| de|strier| s'ac|co|sta,\",\n",
       " '|e |si |pen|sa|va |dar| di |ma|no| al| fre|no.',\n",
       " '|Col|le |grop|pe| il| de|strier| gli |fa |ri|spo|sta,',\n",
       " '|che |fu |pre|sto| al| gi|rar| co|me| un| ba|le|no;',\n",
       " '|ma |non| ar|ri|va |do|ve| i |cal|ci| ap|po|sta:',\n",
       " '|mi|se|ro| il| ca|val|lier| se |giun|ge|a| a |pie|no!',\n",
       " '|che |nei |cal|ci |tal| pos|sa| a|ve|a| il| ca|val|lo,',\n",
       " \"|ch'a|vria |spez|za|to| un| mon|te |di |me|tal|lo.\",\n",
       " '|In|di |va |man|sue|to| al|la |don|zel|la,',\n",
       " '|con| u|mi|le |sem|bian|te| e |ge|sto| u|ma|no,',\n",
       " '|co|me| in|tor|no| al| pa|dro|ne| il| can| sal|tel|la,',\n",
       " '|che |sia |duo |gior|ni| o |tre |sta|to |lon|ta|no.',\n",
       " \"|Bai|ar|do| an|co|ra| a|ve|a |me|mo|ria |d'el|la,\",\n",
       " \"|ch'in| Al|brac|ca| il| ser|via |gi|à |di |sua |ma|no\",\n",
       " '|nel| tem|po |che |da |lei |tan|to| e|ra| a|ma|to',\n",
       " '|Ri|nal|do,| al|lor| cru|de|le,| al|lor| in|gra|to.',\n",
       " '|Con| la |si|ni|stra |man| pren|de |la |bri|glia,',\n",
       " \"|con| l'al|tra |toc|ca| e |pal|pa| il| col|lo| e |'l pet|to:\",\n",
       " \"|quel| de|strier|, ch'a|ve|a| in|ge|gno| a |ma|ra|vi|glia,\",\n",
       " '|a |lei,| co|me| un| a|gnel|, si |fa |sug|get|to.',\n",
       " '|In|tan|to |Sa|cri|pan|te| il| tem|po |pi|glia:',\n",
       " \"|mon|ta |Bai|ar|do| e |l'ur|ta| e |lo |tien| stret|to.\",\n",
       " '|Del| ron|zin| di|sgra|va|to |la |don|zel|la',\n",
       " '|la|scia |la |grop|pa,| e |si |ri|po|ne| in| sel|la.',\n",
       " '|Poi |ri|vol|gen|do| a |ca|so |gli| oc|chi,| mi|ra',\n",
       " \"|ve|nir| so|nan|do |d'ar|me| un| gran| pe|do|ne.\",\n",
       " \"|Tut|ta |s'av|vam|pa |di |di|spet|to| e |d'i|ra,\",\n",
       " '|che |co|no|sce| il| fi|gliuol| del| du|ca| A|mo|ne.',\n",
       " \"|Più |che |sua |vi|ta |l'a|ma| e|gli| e |de|si|ra;\",\n",
       " \"|l'o|dia| e |fug|ge| el|la |più |che |gru |fal|co|ne.\",\n",
       " \"|Gi|à |fu |ch'es|so| o|di|ò |lei |più |che |la |mor|te;\",\n",
       " '|el|la| a|mò |lui:| or| han| can|gia|to |sor|te.',\n",
       " '|E |que|sto |han|no |cau|sa|to |due |fon|ta|ne',\n",
       " '|che |di |di|ver|so| ef|fet|to |han|no |li|quo|re,',\n",
       " '|am|be| in| Ar|den|na,| e |non| so|no |lon|ta|ne:',\n",
       " \"|d'a|mo|ro|so |di|sio |l'u|na| em|pie| il| co|re;\",\n",
       " \"|chi |be|e |de |l'al|tra,| sen|za| a|mor| ri|ma|ne,\",\n",
       " '|e |vol|ge |tut|to| in| ghiac|cio| il| pri|mo| ar|do|re.',\n",
       " \"|Ri|nal|do |gu|stò |d'u|na,| e| a|mor| lo |strug|ge;\",\n",
       " \"|An|ge|li|ca |de |l'al|tra,| e |l'o|dia| e |fug|ge.\",\n",
       " '|Quel| li|quor| di |se|cre|to |ve|nen| mi|sto,',\n",
       " \"|che |mu|ta| in| o|dio |l'a|mo|ro|sa |cu|ra,\",\n",
       " '|fa |che |la |don|na |che |Ri|nal|do |ha |vi|sto,',\n",
       " \"|nei |se|re|ni| oc|chi |su|bi|to |s'o|scu|ra;\",\n",
       " '|e |con| vo|ce |tre|man|te| e |vi|so |tri|sto',\n",
       " '|sup|pli|ca |Sa|cri|pan|te| e |lo |scon|giu|ra',\n",
       " '|che |quel| guer|rier| più| ap|pres|so |non| at|ten|da,',\n",
       " \"|ma |ch'in|sie|me |con| lei |la |fu|ga |pren|da.\",\n",
       " '|— Son| dun|que |(dis|se| il| Sa|ra|ci|no)|, so|no',\n",
       " '|dun|que| in| sì |po|co |cre|di|to |con| vui,',\n",
       " '|che |mi |sti|mia|te| i|nu|ti|le| e |non| buo|no',\n",
       " '|da |po|ter|vi |di|fen|der| da |co|stui?',\n",
       " \"|Le |bat|ta|glie |d'Al|brac|ca |gi|à |vi |so|no\",\n",
       " \"|di |men|te| u|sci|te,| e |la |not|te |ch'io |fui\",\n",
       " '|per| la |sa|lu|te |vo|stra,| so|lo| e |nu|do,',\n",
       " '|con|tra| A|gri|ca|ne| e |tut|to| il| cam|po,| scu|do?\\xa0—',\n",
       " '|Non| ri|spon|de| el|la,| e |non| sa |che |si |fac|cia,',\n",
       " \"|per|ché |Ri|nal|do| or|mai |l'è |trop|po| ap|pres|so,\",\n",
       " '|che |da |lon|tan| al| Sa|ra|cin| mi|nac|cia,',\n",
       " '|co|me |vi|de| il| ca|val|lo| e |co|nob|be| es|so,',\n",
       " \"|e |ri|co|nob|be |l'an|ge|li|ca |fac|cia\",\n",
       " \"|che |l'a|mo|ro|so| in|cen|dio| in| cor| gli |ha |mes|so.\",\n",
       " '|Quel| che |se|gu|ì |tra |que|sti |duo |su|per|bi',\n",
       " \"|vo'| che |per| l'al|tro |can|to |si |ri|ser|bi.\",\n",
       " '|In|giu|stis|si|mo| A|mor|, per|ché |sì |ra|ro',\n",
       " '|cor|ri|spon|den|ti |fai |no|stri |de|si|ri?',\n",
       " \"|on|de,| per|fi|do,| av|vien| che |t'è |sì |ca|ro\",\n",
       " \"|il| di|scor|de |vo|ler| ch'in| duo |cor| mi|ri?\",\n",
       " '|Gir| non| mi |la|sci| al| fa|cil| gua|do| e |chia|ro,',\n",
       " '|e |nel| più |cie|co| e |mag|gior| fon|do |ti|ri:',\n",
       " '|da |chi |di|sia| il| mio| a|mor| tu |mi |ri|chia|mi,',\n",
       " \"|e |chi |m'ha| in| o|dio |vuoi |ch'a|do|ri| ed| a|mi.\",\n",
       " \"|Fai |ch'a |Ri|nal|do| An|ge|li|ca |par| bel|la,\",\n",
       " '|quan|do| es|so| a |lei |brut|to| e |spia|ce|vol| pa|re:',\n",
       " \"|quan|do |le |pa|re|a |bel|lo| e |l'a|ma|va| el|la,\",\n",
       " '|e|gli| o|di|ò |lei |quan|to |si |pu|ò |più| o|dia|re.',\n",
       " \"|O|ra |s'af|flig|ge| in|dar|no| e |si |fla|gel|la;\",\n",
       " '|co|sì |ren|du|to |ben| gli| è |pa|re| a |pa|re:',\n",
       " \"|el|la |l'ha| in| o|dio,| e |l'o|dio| è |di |tal| sor|te,\",\n",
       " '|che |più |to|sto |che |lui |vor|ria |la |mor|te.',\n",
       " '|Ri|nal|do| al| Sa|ra|cin| con| mol|to| or|go|glio',\n",
       " '|gri|dò:| — Scen|di,| la|dron|, del| mio |ca|val|lo!',\n",
       " '|Che |mi |sia |tol|to| il| mio,| pa|tir| non| so|glio,',\n",
       " '|ma |ben| fo,| a |chi |lo |vuol|, ca|ro |co|stal|lo:',\n",
       " '|e |le|var| que|sta |don|na| an|co |ti |vo|glio;',\n",
       " '|che |sa|reb|be| a |la|sciar|te|la |gran| fal|lo.',\n",
       " '|Sì |per|fet|to |de|strier|, don|na |sì |de|gna',\n",
       " '|a| un| la|dron| non| mi |par| che |si |con|ve|gna.\\xa0—',\n",
       " '|— Tu |te |ne |men|ti |che |la|dro|ne| io |sia',\n",
       " '|(ri|spo|se| il| Sa|ra|cin| non| me|no| al|tie|ro):',\n",
       " '|chi |di|ces|se| a |te |la|dro,| lo |di|ria',\n",
       " \"|(quan|to| io |n'o|do |per| fa|ma)| più |con| ve|ro.\",\n",
       " '|La |pruo|va| or| si |ve|drà,| chi |di |noi |sia',\n",
       " '|più |de|gno |de |la |don|na| e |del| de|strie|ro;',\n",
       " '|ben| che,| quan|to| a |lei,| te|co| io |mi |con|ve|gna',\n",
       " '|che |non| è |co|sa| al| mon|do| al|tra |sì |de|gna.\\xa0—',\n",
       " '|Co|me |so|glion| ta|lor| duo |can| mor|den|ti,',\n",
       " '|o |per| in|vi|dia| o |per| al|tro| o|dio |mos|si,',\n",
       " '|a|vi|ci|nar|si |di|gri|gnan|do| i |den|ti,',\n",
       " '|con| oc|chi |bie|ci| e |più |che |bra|cia |ros|si;',\n",
       " \"|in|di| a'| mor|si |ve|nir|, di |rab|bia| ar|den|ti,\",\n",
       " '|con| a|spri |rin|ghi| e |ri|buf|fa|ti |dos|si:',\n",
       " \"|co|sì| al|le |spa|de| e |dai |gri|di| e |da |l'on|te\",\n",
       " '|ven|ne| il| Cir|cas|so| e |quel| di |Chia|ra|mon|te.',\n",
       " \"|A |pie|di| è |l'un|, l'al|tro| a |ca|val|lo:| or| qua|le\",\n",
       " \"|cre|de|te |ch'ab|bia| il| Sa|ra|cin| van|tag|gio?\",\n",
       " \"|Né |ve |n'ha |pe|rò| al|cun|; che |co|sì |va|le\",\n",
       " \"|for|se| an|cor| men| ch'u|no| i|ne|sper|to |pag|gio;\",\n",
       " \"|che |'l de|strier| per| i|stin|to |na|tu|ra|le\",\n",
       " '|non| vo|le|a |fa|re| al| suo |si|gno|re| ol|trag|gio:',\n",
       " '|né |con| man| né |con| spron| po|te|a| il| Cir|cas|so',\n",
       " '|far|lo| a |vo|lun|tà |sua |muo|ver| mai |pas|so.',\n",
       " \"|Quan|do |cre|de |cac|ciar|lo,| e|gli |s'ar|re|sta;\",\n",
       " '|E |se |te|ner| lo |vuo|le,| o |cor|re| o |trot|ta:',\n",
       " '|poi |sot|to| il| pet|to |si |cac|cia |la |te|sta,',\n",
       " '|giuo|ca |di |schie|ne,| e |me|na |cal|ci| in| frot|ta.',\n",
       " \"|Ve|den|do| il| Sa|ra|cin| ch'a |do|mar| que|sta\",\n",
       " '|be|stia |su|per|ba| e|ra |mal| tem|po| al|lot|ta,',\n",
       " \"|fer|ma |le |man| sul| pri|mo| ar|cio|ne| e |s'al|za,\",\n",
       " '|e |dal| si|ni|stro |fian|co| in| pie|de |sbal|za.',\n",
       " '|Sciol|to |che |fu| il| pa|gan| con| leg|gier| sal|to',\n",
       " \"|da |l'o|sti|na|ta |fu|ria |di |Bai|ar|do,\",\n",
       " '|si |vi|de |co|min|ciar| ben| de|gno| as|sal|to',\n",
       " \"|d'un| par| di |ca|val|lier| tan|to |ga|gliar|do.\",\n",
       " \"|Suo|na |l'un| bran|do| e |l'al|tro,| or| bas|so| or| al|to:\",\n",
       " '|il| mar|tel| di |Vul|ca|no| e|ra |più |tar|do',\n",
       " '|ne |la |spe|lun|ca| af|fu|mi|ca|ta,| do|ve',\n",
       " \"|bat|te|a| al|l'in|cu|de| i |fol|go|ri |di |Gio|ve.\",\n",
       " '|Fan|no| or| con| lun|ghi,| o|ra |con| fin|ti| e |scar|si',\n",
       " '|col|pi |ve|der| che |ma|stri |son| del| giuo|co:',\n",
       " '|or| li |ve|di| i|re| al|tie|ri,| or| ran|nic|chiar|si,',\n",
       " '|o|ra |co|prir|si,| o|ra |mo|strar|si| un| po|co,',\n",
       " '|o|ra |cre|scer| i|nan|zi,| o|ra |ri|trar|si,',\n",
       " '|ri|bat|ter| col|pi| e |spes|so |lor| dar| lo|co,',\n",
       " \"|gi|rar|si| in|tor|no;| e |don|de |l'u|no |ce|de,\",\n",
       " \"|l'al|tro| a|ver| po|sto| im|man|ti|nen|te| il| pie|de.\",\n",
       " '|Ec|co |Ri|nal|do |con| la |spa|da| a|dos|so',\n",
       " \"|a |Sa|cri|pan|te |tut|to |s'ab|ban|do|na;\",\n",
       " \"|e |quel| por|ge |lo |scu|do,| ch'e|ra |d'os|so,\",\n",
       " \"|con| la |pia|stra |d'ac|ciar| tem|pra|ta| e |buo|na.\",\n",
       " '|Ta|glial| Fu|sber|ta,| an|cor| che |mol|to |gros|so:',\n",
       " '|ne |ge|me |la |fo|re|sta| e |ne |ri|suo|na.',\n",
       " \"|L'os|so| e |l'ac|ciar| ne |va |che |par| di |ghiac|cio,\",\n",
       " '|e |la|scia| al| Sa|ra|cin| stor|di|to| il| brac|cio.',\n",
       " '|Quan|do |vi|de |la |ti|mi|da |don|zel|la',\n",
       " '|dal| fie|ro |col|po| u|scir| tan|ta |rui|na,',\n",
       " '|per| gran| ti|mor| can|gi|ò |la |fac|cia |bel|la,',\n",
       " \"|qual| il| re|o |ch'al| sup|pli|cio |s'av|vi|ci|na;\",\n",
       " \"|né |le |par| che |vi |sia |da |tar|dar|, s'el|la\",\n",
       " '|non| vuol| di |quel| Ri|nal|do| es|ser| ra|pi|na,',\n",
       " \"|di |quel| Ri|nal|do |ch'el|la |tan|to| o|dia|va,\",\n",
       " '|quan|to| es|so |lei |mi|se|ra|men|te| a|ma|va.',\n",
       " '|Vol|ta| il| ca|val|lo,| e |ne |la |sel|va |fol|ta',\n",
       " '|lo |cac|cia |per| un| a|spro| e |stret|to |cal|le:',\n",
       " '|e |spes|so| il| vi|so |smor|to| a |die|tro |vol|ta;',\n",
       " '|che |le |par| che |Ri|nal|do| ab|bia| al|le |spal|le.',\n",
       " '|Fug|gen|do |non| a|ve|a |fat|to |via |mol|ta,',\n",
       " '|che |scon|trò| un| e|re|mi|ta| in| u|na |val|le,',\n",
       " \"|ch'a|ve|a |lun|ga |la |bar|ba| a |mez|zo| il| pet|to,\",\n",
       " \"|de|vo|to| e |ve|ne|ra|bi|le |d'a|spet|to.\",\n",
       " '|Da|gli| an|ni| e |dal| di|giu|no| at|te|nua|to,',\n",
       " '|so|pra| un| len|to| a|si|nel| se |ne |ve|ni|va;',\n",
       " \"|e |pa|re|a,| più |ch'al|cun| fos|se |mai |sta|to,\",\n",
       " '|di |co|scien|za |scru|po|lo|sa| e |schi|va.',\n",
       " '|Co|me| e|gli |vi|de| il| vi|so |de|li|ca|to',\n",
       " '|de |la |don|zel|la |che |so|pra |gli| ar|ri|va,',\n",
       " '|de|bil| quan|tun|que| e |mal| ga|gliar|da |fos|se,',\n",
       " '|tut|ta |per| ca|ri|tà |se |gli |com|mos|se.',\n",
       " '|La |don|na| al| fra|ti|cel| chie|de |la |via',\n",
       " '|che |la |con|du|ca| ad| un| por|to |di |ma|re,',\n",
       " '|per|ché |le|var| di |Fran|cia |si |vor|ria,',\n",
       " '|per| non| u|dir| Ri|nal|do |no|mi|na|re.',\n",
       " '|Il| fra|te,| che |sa|pe|a |ne|gro|man|zia,',\n",
       " '|non| ces|sa |la |don|zel|la |con|for|ta|re',\n",
       " \"|che |pre|sto |la |trar|rà |d'o|gni |pe|ri|glio;\",\n",
       " '|ed| ad| u|na |sua |ta|sca |di|è |di |pi|glio.',\n",
       " '|Tras|se|ne| un| li|bro,| e |mo|strò |gran|de| ef|fet|to;',\n",
       " '|che |leg|ger| non| fi|nì |la |pri|ma |fac|cia,',\n",
       " \"|ch'u|scir| fa| un| spir|to| in| for|ma |di |val|let|to,\",\n",
       " \"|e |gli |com|man|da |quan|to |vuol| ch'el| fac|cia.\",\n",
       " '|Quel| se |ne |va,| da |la |scrit|tu|ra| a|stret|to,',\n",
       " '|do|ve| i |dui |ca|val|lie|ri| a |fac|cia| a |fac|cia',\n",
       " '|e|ran| nel| bo|sco,| e |non| sta|va|no| al| rez|zo;',\n",
       " \"|fra'| qua|li| en|trò |con| gran|de| au|da|cia| in| mez|zo.\",\n",
       " '|— Per| cor|te|sia |(dis|se)|, un| di |voi |mi |mo|stre,',\n",
       " \"|quan|do| an|co| uc|ci|da |l'al|tro,| che |gli |va|glia:\",\n",
       " '|che |mer|to| a|vre|te| al|le |fa|ti|che |vo|stre,',\n",
       " '|fi|ni|ta |che |tra |voi |sia |la |bat|ta|glia,',\n",
       " \"|se |'l con|te| Or|lan|do,| sen|za |li|ti| o |gio|stre,\",\n",
       " '|e |sen|za |pur| a|ver| rot|ta| u|na |ma|glia,',\n",
       " '|ver|so |Pa|ri|gi |me|na |la |don|zel|la',\n",
       " \"|che |v'ha |con|dot|ti| a |que|sta |pu|gna |fel|la?\",\n",
       " '|Vi|ci|no| un| mi|glio |ho |ri|tro|va|to| Or|lan|do',\n",
       " '|che |ne |va |con| An|ge|li|ca| a |Pa|ri|gi,',\n",
       " '|di |voi |ri|den|do| in|sie|me,| e |mot|teg|gian|do',\n",
       " '|che |sen|za |frut|to| al|cun| sia|te| in| li|ti|gi.',\n",
       " '|Il| me|glio |for|se |vi |sa|reb|be,| or| quan|do',\n",
       " '|non| son| più |lun|gi,| a |se|guir| lor| ve|sti|gi;',\n",
       " \"|che |s'in| Pa|ri|gi| Or|lan|do |la |pu|ò| a|ve|re,\",\n",
       " '|non| ve |la |la|scia |mai |più |ri|ve|de|re.\\xa0—',\n",
       " '|Ve|du|to| a|vre|ste| i |ca|val|lier| tur|bar|si',\n",
       " '|a |quel| an|nun|zio,| e |me|sti| e |sbi|got|ti|ti,',\n",
       " '|sen|za| oc|chi| e |sen|za |men|te |no|mi|nar|si,',\n",
       " '|che |gli| a|ves|se| il| ri|val| co|sì |scher|ni|ti;',\n",
       " '|ma| il| buon| Ri|nal|do| al| suo |ca|val|lo |trar|si',\n",
       " '|con| so|spir| che |pa|re|an| del| fuo|co| u|sci|ti,',\n",
       " '|e |giu|rar| per| i|sde|gno| e |per| fu|ro|re,',\n",
       " '|se |giun|ge|a| Or|lan|do,| di |ca|var|gli| il| co|re.',\n",
       " '|E |do|ve| a|spet|ta| il| suo |Bai|ar|do,| pas|sa,',\n",
       " '|e |so|pra |vi |si |lan|cia,| e |via |ga|lop|pa,',\n",
       " \"|né| al| ca|val|lier|, ch'a |pi|è |nel| bo|sco |las|sa,\",\n",
       " \"|pur| di|ce| a |Dio,| non| che |lo |'nvi|ti| in| grop|pa.\",\n",
       " \"|L'a|ni|mo|so |ca|val|lo| ur|ta| e |fra|cas|sa,\",\n",
       " \"|pun|to |dal| suo |si|gnor|, ci|ò |ch'e|gli |'ntop|pa:\",\n",
       " '|non| pon|no |fos|se| o |fiu|mi| o |sas|si| o |spi|ne',\n",
       " '|far| che |dal| cor|so| il| cor|ri|dor| de|cli|ne.',\n",
       " '|Si|gnor|, non| vo|glio |che |vi |pai|a |stra|no',\n",
       " '|se |Ri|nal|do| or| sì |to|sto| il| de|strier| pi|glia,',\n",
       " '|che |gi|à |più |gior|ni |ha |se|gui|ta|to| in|va|no,',\n",
       " '|né |gli |ha |pos|su|to |mai |toc|car| la |bri|glia.',\n",
       " \"|Fe|ce| il| de|strier|, ch'a|ve|a| in|tel|let|to| u|ma|no,\",\n",
       " '|non| per| vi|zio |se|guir|si |tan|te |mi|glia,',\n",
       " '|ma |per| gui|dar| do|ve |la |don|na |gi|va,',\n",
       " \"|il| suo |si|gnor|, da |chi |bra|mar| l'u|di|va.\",\n",
       " '|Quan|do| el|la |si |fug|gì |dal| pa|di|glio|ne,',\n",
       " '|la |vi|de| ed| ap|po|stol|la| il| buon| de|strie|ro,',\n",
       " \"|che |si |tro|va|va| a|ver| vo|to |l'ar|cio|ne,\",\n",
       " \"|pe|rò |che |n'e|ra |sce|so| il| ca|val|lie|ro\",\n",
       " '|per| com|bat|ter| di |par| con| un| ba|ro|ne,',\n",
       " '|che |men| di |lui |non| e|ra| in| ar|me |fie|ro;',\n",
       " \"|poi |ne |se|gui|tò |l'or|me |di |lon|ta|no,\",\n",
       " '|bra|mo|so |por|la| al| suo |si|gno|re| in| ma|no.',\n",
       " '|Bra|mo|so |di |ri|trar|lo| o|ve |fos|se| el|la,',\n",
       " '|per| la |gran| sel|va| i|nan|zi |se |gli |mes|se;',\n",
       " '|né |lo |vo|le|a |la|sciar| mon|ta|re| in| sel|la,',\n",
       " '|per|ché| ad| al|tro |ca|min| non| lo |vol|ges|se.',\n",
       " '|Per| lui |tro|vò |Ri|nal|do |la |don|zel|la',\n",
       " '|u|na| e |due |vol|te,| e |mai |non| gli |suc|ces|se;',\n",
       " '|che |fu |da |Fer|ra|ù |pri|ma| im|pe|di|to,',\n",
       " '|poi |dal| Cir|cas|so,| co|me| a|ve|te| u|di|to.',\n",
       " '|O|ra| al| de|mo|nio |che |mo|strò| a |Ri|nal|do',\n",
       " '|de |la |don|zel|la |li |fal|si |ve|sti|gi,',\n",
       " '|cre|det|te |Bai|ar|do| an|co,| e |stet|te |sal|do',\n",
       " '|e |man|sue|to| ai |so|li|ti |ser|vi|gi.',\n",
       " \"|Ri|nal|do| il| cac|cia,| d'i|ra| e |d'a|mor| cal|do,\",\n",
       " '|a |tut|ta |bri|glia,| e |sem|pre| in|vêr Pa|ri|gi;',\n",
       " '|e |vo|la |tan|to |col| di|sio,| che |len|to,',\n",
       " \"|non| ch'un| de|strier|, ma |gli |par|reb|be| il| ven|to.\",\n",
       " '|La |not|te| a |pe|na |di |se|guir| ri|ma|ne,',\n",
       " \"|per| af|fron|tar|si |col| si|gnor| d'An|glan|te:\",\n",
       " '|tan|to |ha |cre|du|to| al|le |pa|ro|le |va|ne',\n",
       " '|del| mes|sag|ger| del| cau|to |ne|gro|man|te.',\n",
       " '|Non| ces|sa |ca|val|car| se|ra| e |di|ma|ne,',\n",
       " '|che |si |ve|de| ap|pa|rir| la |ter|ra| a|van|te,',\n",
       " '|do|ve |re |Car|lo,| rot|to| e |mal| con|dut|to,',\n",
       " \"|con| le |re|li|qui|e |sue |s'e|ra |ri|dut|to:\",\n",
       " \"|e |per|ché |dal| re |d'A|fri|ca |bat|ta|glia\",\n",
       " \"|ed| as|se|dio |s'a|spet|ta,| u|sa |gran| cu|ra\",\n",
       " '|a |rac|cor| buo|na |gen|te| e |vet|to|va|glia,',\n",
       " '|far| ca|va|men|ti| e |ri|pa|rar| le |mu|ra.',\n",
       " \"|Ci|ò |ch'a |di|fe|sa |spe|ra |che |gli |va|glia,\",\n",
       " '|sen|za |gran| di|fe|rir|, tut|to |pro|cu|ra:',\n",
       " '|pen|sa |man|da|re| in| In|ghil|ter|ra,| e |trar|ne',\n",
       " '|gen|te| on|de |pos|sa| un| no|vo |cam|po |far|ne:',\n",
       " '|che |vuo|le| u|scir| di |nuo|vo| al|la |cam|pa|gna,',\n",
       " '|e |ri|ten|tar| la |sor|te |de |la |guer|ra.',\n",
       " '|Spac|cia |Ri|nal|do |su|bi|to| in| Bre|ta|gna,',\n",
       " '|Bre|ta|gna |che |fu |poi |det|ta| In|ghil|ter|ra.',\n",
       " \"|Ben| de |l'an|da|ta| il| pa|la|din| si |la|gna:\",\n",
       " \"|non| ch'ab|bia |co|sì| in| o|dio |quel|la |ter|ra;\",\n",
       " '|ma |per|ché |Car|lo| il| man|da| al|lo|ra| al|lo|ra,',\n",
       " '|né |pur| lo |la|scia| un| gior|no |far| di|mo|ra.',\n",
       " '|Ri|nal|do |mai |di |ci|ò |non| fe|ce |me|no',\n",
       " '|vo|len|tier| co|sa;| poi |che |fu |di|stol|to',\n",
       " '|di |gir| cer|can|do| il| bel| vi|so |se|re|no',\n",
       " '|che |gli| a|ve|a| il| cor| di |mez|zo| il| pet|to |tol|to:',\n",
       " '|ma,| per| u|bi|dir| Car|lo,| non|di|me|no',\n",
       " '|a |quel|la |via |si |fu |su|bi|to |vol|to,',\n",
       " '|ed| a |Ca|les|se| in| po|che| o|re |tro|vos|si;',\n",
       " '|e |giun|to,| il| dì |me|de|si|mo| im|bar|cos|si.',\n",
       " \"|Con|tra |la |vo|lun|tà |d'o|gni |noc|chie|ro,\",\n",
       " '|pel| gran| de|sir| che |di |tor|na|re| a|ve|a,',\n",
       " \"|en|trò |nel| mar| ch'e|ra |tur|ba|to| e |fie|ro,\",\n",
       " '|e |gran| pro|cel|la |mi|nac|ciar| pa|re|a.',\n",
       " \"|Il| Ven|to |si |sde|gnò,| che |da |l'al|tie|ro\",\n",
       " '|sprez|zar| si |vi|de;| e |con| tem|pe|sta |re|a',\n",
       " '|sol|le|vò| il| mar| in|tor|no,| e |con| tal| rab|bia,',\n",
       " '|che |gli |man|dò| a |ba|gnar| si|no| al|la |gab|bia.',\n",
       " '|Ca|la|no |to|sto| i |ma|ri|na|ri| ac|cor|ti',\n",
       " '|le |mag|gior| ve|le,| e |pen|sa|no |dar| vol|ta,',\n",
       " '|e |ri|tor|nar| ne |li |me|de|smi |por|ti',\n",
       " '|don|de| in| mal| pun|to| a|ve|an| la |na|ve |sciol|ta.',\n",
       " \"|— Non| con|vien| (di|ce| il| Ven|to)| ch'io |com|por|ti\",\n",
       " \"|tan|ta |li|cen|za |che |v'a|ve|te |tol|ta;\\xa0—\",\n",
       " '|e |sof|fia| e |gri|da| e |nau|fra|gio |mi|nac|cia,',\n",
       " \"|s'al|tro|ve |van|, che |do|ve| e|gli |li |cac|cia.\",\n",
       " \"|Or| a |pop|pa,| or| al|l'or|za |han|n'il| cru|de|le,\",\n",
       " '|che |mai |non| ces|sa,| e |vien| più| o|gnor| cre|scen|do:',\n",
       " '|es|si |di |qua |di |là |con| u|mil| ve|le',\n",
       " \"|van|si| ag|gi|ran|do,| e |l'al|to |mar| scor|ren|do.\",\n",
       " '|Ma |per|ché |va|rie |fi|la| a |va|rie |te|le',\n",
       " '|uo|po |mi |son|, che |tut|te| or|di|re| in|ten|do,',\n",
       " \"|la|scio |Ri|nal|do| e |l'a|gi|ta|ta |prua,\",\n",
       " '|e |tor|no| a |dir| di |Bra|da|man|te |sua.',\n",
       " '|I|o |par|lo |di |quel|la| in|cli|ta |don|zel|la,',\n",
       " '|per| cui |re |Sa|cri|pan|te| in| ter|ra |giac|que,',\n",
       " '|che |di |que|sto |si|gnor| de|gna |so|rel|la,',\n",
       " '|del| du|ca| A|mo|ne| e |di |Be|a|tri|ce |nac|que.',\n",
       " '|La |gran| pos|san|za| e| il| mol|to| ar|dir| di |quel|la',\n",
       " '|non| me|no| a |Car|lo| e| a |tut|ta |Fran|cia |piac|que',\n",
       " \"|(che |più |d'un| pa|ra|gon| ne |vi|de |sal|do),\",\n",
       " \"|che |'l lo|da|to |va|lor| del| buon| Ri|nal|do.\",\n",
       " '|La |don|na| a|ma|ta |fu |da| un| ca|val|lie|ro',\n",
       " \"|che |d'A|fri|ca |pas|sò |col| re| A|gra|man|te,\",\n",
       " '|che |par|to|rì |del| se|me |di |Rug|gie|ro',\n",
       " '|la |di|spe|ra|ta |fi|glia |di| A|go|lan|te:',\n",
       " \"|e |co|stei,| che |né |d'or|so |né |di |fie|ro\",\n",
       " '|le|o|ne| u|scì,| non| sde|gnò |tal| a|man|te;',\n",
       " '|ben| che |con|ces|so,| fuor| che |ve|der|si| u|na',\n",
       " '|vol|ta| e |par|lar|si,| non| ha |lor| For|tu|na.',\n",
       " '|Quin|di |cer|can|do |Bra|da|man|te |gì|a',\n",
       " \"|l'a|man|te |suo,| ch'a|ve|a |no|me |dal| pa|dre,\",\n",
       " '|co|sì |si|cu|ra |sen|za |com|pa|gnia,',\n",
       " '|co|me| a|ves|se| in| sua |guar|dia |mil|le |squa|dre:',\n",
       " \"|e |fat|to |ch'eb|be| al| re |di |Cir|cas|sia\",\n",
       " \"|bat|te|re| il| vol|to |del|l'an|ti|qua |ma|dre,\",\n",
       " '|tra|ver|sò| un| bo|sco,| e |do|po| il| bo|sco| un| mon|te,',\n",
       " '|tan|to |che |giun|se| ad| u|na |bel|la |fon|te.',\n",
       " '|La |fon|te |di|scor|re|a |per| mez|zo| un| pra|to,',\n",
       " \"|d'ar|bo|ri| an|ti|qui| e |di |bel|l'om|bre| a|dor|no,\",\n",
       " \"|Ch'i |vian|dan|ti |col| mor|mo|rio |gra|to\",\n",
       " '|a |ber| in|vi|ta| e| a |far| se|co |sog|gior|no:',\n",
       " '|un| cul|to |mon|ti|cel| dal| man|co |la|to',\n",
       " '|le |di|fen|de| il| ca|lor| del| mez|zo |gior|no.',\n",
       " '|Qui|vi,| co|me| i |be|gli| oc|chi |pri|ma |tor|se,',\n",
       " \"|d'un| ca|val|lier| la |gio|va|ne |s'ac|cor|se;\",\n",
       " \"|d'un| ca|val|lier|, ch'al|l'om|bra |d'un| bo|schet|to,\",\n",
       " '|nel| mar|gin| ver|de| e |bian|co| e |ros|so| e |gial|lo',\n",
       " '|se|de|a |pen|so|so,| ta|ci|to| e |so|let|to',\n",
       " '|so|pra |quel| chia|ro| e |li|qui|do |cri|stal|lo.',\n",
       " \"|Lo |scu|do |non| lon|tan| pen|de| e |l'el|met|to\",\n",
       " '|dal| fag|gio,| o|ve |le|ga|to| e|ra| il| ca|val|lo;',\n",
       " \"|ed| a|ve|a |gli| oc|chi |mol|li| e |'l vi|so |bas|so,\",\n",
       " '|e |si |mo|stra|va| ad|do|lo|ra|to| e |las|so.',\n",
       " \"|Que|sto |di|sir|, ch'a |tut|ti |sta |nel| co|re,\",\n",
       " \"|de'| fat|ti| al|trui |sem|pre |cer|car| no|vel|la,\",\n",
       " '|fe|ce| a |quel| ca|val|lier| del| suo |do|lo|re',\n",
       " '|la |ca|gion| do|man|dar| da |la |don|zel|la.',\n",
       " \"|E|gli |l'a|per|se| e |tut|ta |mo|strò |fuo|re,\",\n",
       " '|dal| cor|te|se |par|lar| mos|so |di |quel|la,',\n",
       " \"|e |dal| sem|bian|te| al|tier|, ch'al| pri|mo |sguar|do\",\n",
       " '|gli |sem|brò |di |guer|rier| mol|to |ga|gliar|do.',\n",
       " '|E |co|min|ci|ò:| — Si|gnor|, io |con|du|ce|a',\n",
       " '|pe|do|ni| e |ca|val|lie|ri,| e |ve|nì|a| in| cam|po',\n",
       " '|là |do|ve |Car|lo |Mar|si|lio| at|ten|de|a,',\n",
       " \"|per|ch'al| scen|der| del| mon|te| a|ves|se| in|ciam|po;\",\n",
       " '|e| u|na |gio|va|ne |bel|la |me|co| a|ve|a,',\n",
       " '|del| cui |fer|vi|do| a|mor| nel| pet|to| a|vam|po:',\n",
       " '|e |ri|tro|vai |pres|so| a |Ro|don|na| ar|ma|to',\n",
       " '|un| che |fre|na|va| un| gran| de|strie|ro| a|la|to.',\n",
       " \"|To|sto |che |'l la|dro,| o |sia |mor|ta|le,| o |sia\",\n",
       " \"|u|na |de |l'in|fer|na|li| a|ni|me| or|ren|de,\",\n",
       " '|ve|de |la |bel|la| e |ca|ra |don|na |mia;',\n",
       " '|co|me |fal|con| che |per| fe|rir| di|scen|de,',\n",
       " '|ca|la| e |pog|gia| in| un| a|ti|mo,| e |tra |via',\n",
       " '|get|ta |le |ma|ni,| e |lei |smar|ri|ta |pren|de.',\n",
       " \"|An|cor| non| m'e|ra| ac|cor|to |de |l'as|sal|to,\",\n",
       " \"|che |de |la |don|na| io |sen|ti'| il| gri|do| in| al|to.\",\n",
       " '|Co|sì| il| ra|pa|ce |ni|bio |fu|rar| suo|le',\n",
       " '|il| mi|se|ro |pul|cin| pres|so| al|la |chioc|cia,',\n",
       " '|che |di |sua| i|nav|ver|ten|za |poi |si |duo|le,',\n",
       " '|e| in|van| gli |gri|da,| e| in|van| die|tro |gli |croc|cia.',\n",
       " '|I|o |non| pos|so |se|guir| un| uom| che |vo|le,',\n",
       " \"|chiu|so |tra'| mon|ti,| a |pi|è |d'un|'er|ta |roc|cia:\",\n",
       " '|stan|co |ho| il| de|strier|, che |mu|ta| a |pe|na| i |pas|si',\n",
       " \"|ne |l'a|spre |vie |de'| fa|ti|co|si |sas|si.\",\n",
       " '|Ma,| co|me |quel| che |men| cu|ra|to| a|vrei',\n",
       " '|ve|der|mi |trar| di |mez|zo| il| pet|to| il| co|re,',\n",
       " '|la|sciai |lor| via |se|guir| que|gli| al|tri |miei,',\n",
       " '|sen|za |mia |gui|da| e |sen|za| al|cun| ret|to|re:',\n",
       " '|per| li |sco|sce|si |pog|gi| e |man|co |rei',\n",
       " '|pre|si |la |via |che |mi |mo|stra|va| A|mo|re,',\n",
       " '|e |do|ve |mi |pa|re|a |che |quel| ra|pa|ce',\n",
       " '|por|tas|si| il| mio |con|for|to| e |la |mia |pa|ce.',\n",
       " \"|Sei |gior|ni |me |n'an|dai |ma|ti|na| e |se|ra\",\n",
       " '|per| bal|ze| e |per| pen|di|ci| or|ri|de| e |stra|ne,',\n",
       " '|do|ve |non| via,| do|ve |sen|tier| non| e|ra,',\n",
       " '|do|ve |né |se|gno |di |ve|sti|gie| u|ma|ne;',\n",
       " '|poi |giun|si| in| u|na |val|le| in|cul|ta| e |fie|ra,',\n",
       " '|di |ri|pe |cin|ta| e |spa|ven|to|se |ta|ne,',\n",
       " \"|che |nel| mez|zo |s'un| sas|so| a|ve|a| un| ca|stel|lo\",\n",
       " '|for|te| e |ben| po|sto,| a |ma|ra|vi|glia |bel|lo.',\n",
       " '|Da |lun|gi |par| che |co|me |fiam|ma |lu|stri,',\n",
       " '|né |sia |di |ter|ra |cot|ta,| né |di |mar|mi.',\n",
       " \"|Co|me |più |m'a|vi|ci|no| ai |mu|ri| il|lu|stri,\",\n",
       " \"|l'o|pra |più |bel|la| e |più |mi|ra|bil| par|mi.\",\n",
       " '|E |sep|pi |poi,| co|me| i |de|mo|ni| in|du|stri,',\n",
       " '|da |suf|fu|mi|gi |trat|ti| e |sa|cri |car|mi,',\n",
       " \"|tut|to |d'ac|ciai|o| a|ve|an| cin|to| il| bel| lo|co,\",\n",
       " \"|tem|pra|to| al|l'on|da| ed| al|lo |sti|gio |fo|co.\",\n",
       " '|Di |sì |for|bi|to| ac|ciar| lu|ce| o|gni |tor|re,',\n",
       " '|che |non| vi |pu|ò |né |rug|gi|ne |né |mac|chia.',\n",
       " '|Tut|to| il| pa|e|se |gior|no| e |not|te |scor|re,',\n",
       " \"|e |poi |là |den|tro| il| rio |la|dron| s'im|mac|chia.\",\n",
       " '|Co|sa |non| ha |ri|par| che |vo|glia |tor|re:',\n",
       " '|sol| die|tro| in|van| se |li |be|ste|mia| e |grac|chia.',\n",
       " '|Qui|vi |la |don|na,| an|zi| il| mio |cor| mi |tie|ne,',\n",
       " '|che |di |mai |ri|co|vrar| la|scio| o|gni |spe|ne.',\n",
       " \"|Ah| las|so!| che |pos|s'io |più |che |mi|ra|re\",\n",
       " \"|la |roc|ca |lun|gi,| o|ve| il| mio |ben| m'è |chiu|so?\",\n",
       " \"|co|me |la |vol|pe,| che |'l fi|glio |gri|da|re\",\n",
       " \"|nel| ni|do| o|da |de |l'a|qui|la |di |giu|so,\",\n",
       " \"|s'ag|gi|ra| in|tor|no,| e |non| sa |che |si |fa|re,\",\n",
       " \"|poi |che |l'a|li |non| ha |da |gir| là |su|so.\",\n",
       " '|Er|to| è |quel| sas|so |sì,| ta|le| è| il| ca|stel|lo,',\n",
       " '|che |non| vi |pu|ò |sa|lir| chi |non| è| au|gel|lo.',\n",
       " ...]"
      ]
     },
     "execution_count": 187,
     "metadata": {},
     "output_type": "execute_result"
    }
   ],
   "source": [
    "ariosto_alt_syll"
   ]
  },
  {
   "cell_type": "code",
   "execution_count": 197,
   "metadata": {
    "colab": {
     "base_uri": "https://localhost:8080/"
    },
    "id": "-4JXC8WMbzJh",
    "outputId": "7f4045b2-40f0-4e84-e852-acc2e6f10f6b"
   },
   "outputs": [
    {
     "data": {
      "text/plain": [
       "[(False, 0.8703703703703703),\n",
       " (False, 0.9038461538461539),\n",
       " (False, 0.9183673469387755),\n",
       " (False, 0.35593220338983056),\n",
       " (False, 0.36170212765957444),\n",
       " (False, 0.4285714285714286),\n",
       " (False, 0.3191489361702128),\n",
       " (False, 0.375),\n",
       " (False, 0.2978723404255319),\n",
       " (False, 0.23636363636363633)]"
      ]
     },
     "execution_count": 197,
     "metadata": {},
     "output_type": "execute_result"
    }
   ],
   "source": [
    "validate_syllabification(syll_output, orlando_syll_NP[:10])"
   ]
  },
  {
   "cell_type": "code",
   "execution_count": 198,
   "metadata": {},
   "outputs": [
    {
     "data": {
      "text/plain": [
       "'|Le |don|ne, i |ca|val|lier, |lar|me, |gli a|mo|ri,'"
      ]
     },
     "execution_count": 198,
     "metadata": {},
     "output_type": "execute_result"
    }
   ],
   "source": [
    "syll_output[0]"
   ]
  },
  {
   "cell_type": "markdown",
   "metadata": {
    "id": "3sBN_jztl7US"
   },
   "source": [
    "## 6. Save model"
   ]
  },
  {
   "cell_type": "code",
   "execution_count": null,
   "metadata": {
    "id": "cCdSTLudLJFo"
   },
   "outputs": [],
   "source": [
    "save_transformer_model(transformer, 'models/c2c-gen.h5')"
   ]
  }
 ],
 "metadata": {
  "accelerator": "GPU",
  "colab": {
   "collapsed_sections": [],
   "name": "Char2Char transformer generation-WORKING.ipynb",
   "provenance": [],
   "toc_visible": true
  },
  "kernelspec": {
   "display_name": "Python 3",
   "language": "python",
   "name": "python3"
  }
 },
 "nbformat": 4,
 "nbformat_minor": 1
}
